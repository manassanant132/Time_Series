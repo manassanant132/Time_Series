{
  "nbformat": 4,
  "nbformat_minor": 0,
  "metadata": {
    "colab": {
      "provenance": [],
      "authorship_tag": "ABX9TyPtaJ57QCLjvJUvPOaPNIlc",
      "include_colab_link": true
    },
    "kernelspec": {
      "name": "python3",
      "display_name": "Python 3"
    },
    "language_info": {
      "name": "python"
    }
  },
  "cells": [
    {
      "cell_type": "markdown",
      "metadata": {
        "id": "view-in-github",
        "colab_type": "text"
      },
      "source": [
        "<a href=\"https://colab.research.google.com/github/manassanant132/Time_Series/blob/main/GRU.ipynb\" target=\"_parent\"><img src=\"https://colab.research.google.com/assets/colab-badge.svg\" alt=\"Open In Colab\"/></a>"
      ]
    },
    {
      "cell_type": "code",
      "execution_count": null,
      "metadata": {
        "colab": {
          "base_uri": "https://localhost:8080/",
          "height": 237
        },
        "id": "Cl4XyrRmEZiQ",
        "outputId": "34798e1e-dd13-4a17-cd5e-7a7739050e27"
      },
      "outputs": [
        {
          "output_type": "execute_result",
          "data": {
            "text/plain": [
              "             Open   High    Low  Close    Volume Name\n",
              "Date                                                 \n",
              "2006-01-03  82.45  82.55  80.81  82.06  11715200  IBM\n",
              "2006-01-04  82.20  82.50  81.33  81.95   9840600  IBM\n",
              "2006-01-05  81.40  82.90  81.00  82.50   7213500  IBM\n",
              "2006-01-06  83.95  85.03  83.41  84.95   8197400  IBM\n",
              "2006-01-09  84.10  84.25  83.38  83.73   6858200  IBM"
            ],
            "text/html": [
              "\n",
              "  <div id=\"df-39e641ec-ac08-4a2a-9813-713676c3fb53\" class=\"colab-df-container\">\n",
              "    <div>\n",
              "<style scoped>\n",
              "    .dataframe tbody tr th:only-of-type {\n",
              "        vertical-align: middle;\n",
              "    }\n",
              "\n",
              "    .dataframe tbody tr th {\n",
              "        vertical-align: top;\n",
              "    }\n",
              "\n",
              "    .dataframe thead th {\n",
              "        text-align: right;\n",
              "    }\n",
              "</style>\n",
              "<table border=\"1\" class=\"dataframe\">\n",
              "  <thead>\n",
              "    <tr style=\"text-align: right;\">\n",
              "      <th></th>\n",
              "      <th>Open</th>\n",
              "      <th>High</th>\n",
              "      <th>Low</th>\n",
              "      <th>Close</th>\n",
              "      <th>Volume</th>\n",
              "      <th>Name</th>\n",
              "    </tr>\n",
              "    <tr>\n",
              "      <th>Date</th>\n",
              "      <th></th>\n",
              "      <th></th>\n",
              "      <th></th>\n",
              "      <th></th>\n",
              "      <th></th>\n",
              "      <th></th>\n",
              "    </tr>\n",
              "  </thead>\n",
              "  <tbody>\n",
              "    <tr>\n",
              "      <th>2006-01-03</th>\n",
              "      <td>82.45</td>\n",
              "      <td>82.55</td>\n",
              "      <td>80.81</td>\n",
              "      <td>82.06</td>\n",
              "      <td>11715200</td>\n",
              "      <td>IBM</td>\n",
              "    </tr>\n",
              "    <tr>\n",
              "      <th>2006-01-04</th>\n",
              "      <td>82.20</td>\n",
              "      <td>82.50</td>\n",
              "      <td>81.33</td>\n",
              "      <td>81.95</td>\n",
              "      <td>9840600</td>\n",
              "      <td>IBM</td>\n",
              "    </tr>\n",
              "    <tr>\n",
              "      <th>2006-01-05</th>\n",
              "      <td>81.40</td>\n",
              "      <td>82.90</td>\n",
              "      <td>81.00</td>\n",
              "      <td>82.50</td>\n",
              "      <td>7213500</td>\n",
              "      <td>IBM</td>\n",
              "    </tr>\n",
              "    <tr>\n",
              "      <th>2006-01-06</th>\n",
              "      <td>83.95</td>\n",
              "      <td>85.03</td>\n",
              "      <td>83.41</td>\n",
              "      <td>84.95</td>\n",
              "      <td>8197400</td>\n",
              "      <td>IBM</td>\n",
              "    </tr>\n",
              "    <tr>\n",
              "      <th>2006-01-09</th>\n",
              "      <td>84.10</td>\n",
              "      <td>84.25</td>\n",
              "      <td>83.38</td>\n",
              "      <td>83.73</td>\n",
              "      <td>6858200</td>\n",
              "      <td>IBM</td>\n",
              "    </tr>\n",
              "  </tbody>\n",
              "</table>\n",
              "</div>\n",
              "    <div class=\"colab-df-buttons\">\n",
              "\n",
              "  <div class=\"colab-df-container\">\n",
              "    <button class=\"colab-df-convert\" onclick=\"convertToInteractive('df-39e641ec-ac08-4a2a-9813-713676c3fb53')\"\n",
              "            title=\"Convert this dataframe to an interactive table.\"\n",
              "            style=\"display:none;\">\n",
              "\n",
              "  <svg xmlns=\"http://www.w3.org/2000/svg\" height=\"24px\" viewBox=\"0 -960 960 960\">\n",
              "    <path d=\"M120-120v-720h720v720H120Zm60-500h600v-160H180v160Zm220 220h160v-160H400v160Zm0 220h160v-160H400v160ZM180-400h160v-160H180v160Zm440 0h160v-160H620v160ZM180-180h160v-160H180v160Zm440 0h160v-160H620v160Z\"/>\n",
              "  </svg>\n",
              "    </button>\n",
              "\n",
              "  <style>\n",
              "    .colab-df-container {\n",
              "      display:flex;\n",
              "      gap: 12px;\n",
              "    }\n",
              "\n",
              "    .colab-df-convert {\n",
              "      background-color: #E8F0FE;\n",
              "      border: none;\n",
              "      border-radius: 50%;\n",
              "      cursor: pointer;\n",
              "      display: none;\n",
              "      fill: #1967D2;\n",
              "      height: 32px;\n",
              "      padding: 0 0 0 0;\n",
              "      width: 32px;\n",
              "    }\n",
              "\n",
              "    .colab-df-convert:hover {\n",
              "      background-color: #E2EBFA;\n",
              "      box-shadow: 0px 1px 2px rgba(60, 64, 67, 0.3), 0px 1px 3px 1px rgba(60, 64, 67, 0.15);\n",
              "      fill: #174EA6;\n",
              "    }\n",
              "\n",
              "    .colab-df-buttons div {\n",
              "      margin-bottom: 4px;\n",
              "    }\n",
              "\n",
              "    [theme=dark] .colab-df-convert {\n",
              "      background-color: #3B4455;\n",
              "      fill: #D2E3FC;\n",
              "    }\n",
              "\n",
              "    [theme=dark] .colab-df-convert:hover {\n",
              "      background-color: #434B5C;\n",
              "      box-shadow: 0px 1px 3px 1px rgba(0, 0, 0, 0.15);\n",
              "      filter: drop-shadow(0px 1px 2px rgba(0, 0, 0, 0.3));\n",
              "      fill: #FFFFFF;\n",
              "    }\n",
              "  </style>\n",
              "\n",
              "    <script>\n",
              "      const buttonEl =\n",
              "        document.querySelector('#df-39e641ec-ac08-4a2a-9813-713676c3fb53 button.colab-df-convert');\n",
              "      buttonEl.style.display =\n",
              "        google.colab.kernel.accessAllowed ? 'block' : 'none';\n",
              "\n",
              "      async function convertToInteractive(key) {\n",
              "        const element = document.querySelector('#df-39e641ec-ac08-4a2a-9813-713676c3fb53');\n",
              "        const dataTable =\n",
              "          await google.colab.kernel.invokeFunction('convertToInteractive',\n",
              "                                                    [key], {});\n",
              "        if (!dataTable) return;\n",
              "\n",
              "        const docLinkHtml = 'Like what you see? Visit the ' +\n",
              "          '<a target=\"_blank\" href=https://colab.research.google.com/notebooks/data_table.ipynb>data table notebook</a>'\n",
              "          + ' to learn more about interactive tables.';\n",
              "        element.innerHTML = '';\n",
              "        dataTable['output_type'] = 'display_data';\n",
              "        await google.colab.output.renderOutput(dataTable, element);\n",
              "        const docLink = document.createElement('div');\n",
              "        docLink.innerHTML = docLinkHtml;\n",
              "        element.appendChild(docLink);\n",
              "      }\n",
              "    </script>\n",
              "  </div>\n",
              "\n",
              "\n",
              "<div id=\"df-c30203a7-243a-4bc4-9194-0555fa309bef\">\n",
              "  <button class=\"colab-df-quickchart\" onclick=\"quickchart('df-c30203a7-243a-4bc4-9194-0555fa309bef')\"\n",
              "            title=\"Suggest charts\"\n",
              "            style=\"display:none;\">\n",
              "\n",
              "<svg xmlns=\"http://www.w3.org/2000/svg\" height=\"24px\"viewBox=\"0 0 24 24\"\n",
              "     width=\"24px\">\n",
              "    <g>\n",
              "        <path d=\"M19 3H5c-1.1 0-2 .9-2 2v14c0 1.1.9 2 2 2h14c1.1 0 2-.9 2-2V5c0-1.1-.9-2-2-2zM9 17H7v-7h2v7zm4 0h-2V7h2v10zm4 0h-2v-4h2v4z\"/>\n",
              "    </g>\n",
              "</svg>\n",
              "  </button>\n",
              "\n",
              "<style>\n",
              "  .colab-df-quickchart {\n",
              "      --bg-color: #E8F0FE;\n",
              "      --fill-color: #1967D2;\n",
              "      --hover-bg-color: #E2EBFA;\n",
              "      --hover-fill-color: #174EA6;\n",
              "      --disabled-fill-color: #AAA;\n",
              "      --disabled-bg-color: #DDD;\n",
              "  }\n",
              "\n",
              "  [theme=dark] .colab-df-quickchart {\n",
              "      --bg-color: #3B4455;\n",
              "      --fill-color: #D2E3FC;\n",
              "      --hover-bg-color: #434B5C;\n",
              "      --hover-fill-color: #FFFFFF;\n",
              "      --disabled-bg-color: #3B4455;\n",
              "      --disabled-fill-color: #666;\n",
              "  }\n",
              "\n",
              "  .colab-df-quickchart {\n",
              "    background-color: var(--bg-color);\n",
              "    border: none;\n",
              "    border-radius: 50%;\n",
              "    cursor: pointer;\n",
              "    display: none;\n",
              "    fill: var(--fill-color);\n",
              "    height: 32px;\n",
              "    padding: 0;\n",
              "    width: 32px;\n",
              "  }\n",
              "\n",
              "  .colab-df-quickchart:hover {\n",
              "    background-color: var(--hover-bg-color);\n",
              "    box-shadow: 0 1px 2px rgba(60, 64, 67, 0.3), 0 1px 3px 1px rgba(60, 64, 67, 0.15);\n",
              "    fill: var(--button-hover-fill-color);\n",
              "  }\n",
              "\n",
              "  .colab-df-quickchart-complete:disabled,\n",
              "  .colab-df-quickchart-complete:disabled:hover {\n",
              "    background-color: var(--disabled-bg-color);\n",
              "    fill: var(--disabled-fill-color);\n",
              "    box-shadow: none;\n",
              "  }\n",
              "\n",
              "  .colab-df-spinner {\n",
              "    border: 2px solid var(--fill-color);\n",
              "    border-color: transparent;\n",
              "    border-bottom-color: var(--fill-color);\n",
              "    animation:\n",
              "      spin 1s steps(1) infinite;\n",
              "  }\n",
              "\n",
              "  @keyframes spin {\n",
              "    0% {\n",
              "      border-color: transparent;\n",
              "      border-bottom-color: var(--fill-color);\n",
              "      border-left-color: var(--fill-color);\n",
              "    }\n",
              "    20% {\n",
              "      border-color: transparent;\n",
              "      border-left-color: var(--fill-color);\n",
              "      border-top-color: var(--fill-color);\n",
              "    }\n",
              "    30% {\n",
              "      border-color: transparent;\n",
              "      border-left-color: var(--fill-color);\n",
              "      border-top-color: var(--fill-color);\n",
              "      border-right-color: var(--fill-color);\n",
              "    }\n",
              "    40% {\n",
              "      border-color: transparent;\n",
              "      border-right-color: var(--fill-color);\n",
              "      border-top-color: var(--fill-color);\n",
              "    }\n",
              "    60% {\n",
              "      border-color: transparent;\n",
              "      border-right-color: var(--fill-color);\n",
              "    }\n",
              "    80% {\n",
              "      border-color: transparent;\n",
              "      border-right-color: var(--fill-color);\n",
              "      border-bottom-color: var(--fill-color);\n",
              "    }\n",
              "    90% {\n",
              "      border-color: transparent;\n",
              "      border-bottom-color: var(--fill-color);\n",
              "    }\n",
              "  }\n",
              "</style>\n",
              "\n",
              "  <script>\n",
              "    async function quickchart(key) {\n",
              "      const quickchartButtonEl =\n",
              "        document.querySelector('#' + key + ' button');\n",
              "      quickchartButtonEl.disabled = true;  // To prevent multiple clicks.\n",
              "      quickchartButtonEl.classList.add('colab-df-spinner');\n",
              "      try {\n",
              "        const charts = await google.colab.kernel.invokeFunction(\n",
              "            'suggestCharts', [key], {});\n",
              "      } catch (error) {\n",
              "        console.error('Error during call to suggestCharts:', error);\n",
              "      }\n",
              "      quickchartButtonEl.classList.remove('colab-df-spinner');\n",
              "      quickchartButtonEl.classList.add('colab-df-quickchart-complete');\n",
              "    }\n",
              "    (() => {\n",
              "      let quickchartButtonEl =\n",
              "        document.querySelector('#df-c30203a7-243a-4bc4-9194-0555fa309bef button');\n",
              "      quickchartButtonEl.style.display =\n",
              "        google.colab.kernel.accessAllowed ? 'block' : 'none';\n",
              "    })();\n",
              "  </script>\n",
              "</div>\n",
              "    </div>\n",
              "  </div>\n"
            ],
            "application/vnd.google.colaboratory.intrinsic+json": {
              "type": "dataframe",
              "variable_name": "df",
              "summary": "{\n  \"name\": \"df\",\n  \"rows\": 3020,\n  \"fields\": [\n    {\n      \"column\": \"Date\",\n      \"properties\": {\n        \"dtype\": \"date\",\n        \"min\": \"2006-01-03 00:00:00\",\n        \"max\": \"2017-12-29 00:00:00\",\n        \"num_unique_values\": 3020,\n        \"samples\": [\n          \"2011-08-11 00:00:00\",\n          \"2012-03-20 00:00:00\",\n          \"2006-10-23 00:00:00\"\n        ],\n        \"semantic_type\": \"\",\n        \"description\": \"\"\n      }\n    },\n    {\n      \"column\": \"Open\",\n      \"properties\": {\n        \"dtype\": \"number\",\n        \"std\": 37.554946213280544,\n        \"min\": 72.74,\n        \"max\": 215.38,\n        \"num_unique_values\": 2613,\n        \"samples\": [\n          166.96,\n          134.4,\n          148.4\n        ],\n        \"semantic_type\": \"\",\n        \"description\": \"\"\n      }\n    },\n    {\n      \"column\": \"High\",\n      \"properties\": {\n        \"dtype\": \"number\",\n        \"std\": 37.61344637562722,\n        \"min\": 73.94,\n        \"max\": 215.9,\n        \"num_unique_values\": 2603,\n        \"samples\": [\n          103.65,\n          126.39,\n          197.0\n        ],\n        \"semantic_type\": \"\",\n        \"description\": \"\"\n      }\n    },\n    {\n      \"column\": \"Low\",\n      \"properties\": {\n        \"dtype\": \"number\",\n        \"std\": 37.47764087967782,\n        \"min\": 69.5,\n        \"max\": 214.3,\n        \"num_unique_values\": 2590,\n        \"samples\": [\n          171.23,\n          162.73,\n          155.07\n        ],\n        \"semantic_type\": \"\",\n        \"description\": \"\"\n      }\n    },\n    {\n      \"column\": \"Close\",\n      \"properties\": {\n        \"dtype\": \"number\",\n        \"std\": 37.52938665470685,\n        \"min\": 71.74,\n        \"max\": 215.8,\n        \"num_unique_values\": 2659,\n        \"samples\": [\n          119.58,\n          73.7,\n          205.49\n        ],\n        \"semantic_type\": \"\",\n        \"description\": \"\"\n      }\n    },\n    {\n      \"column\": \"Volume\",\n      \"properties\": {\n        \"dtype\": \"number\",\n        \"std\": 3192830,\n        \"min\": 254256,\n        \"max\": 30774276,\n        \"num_unique_values\": 3020,\n        \"samples\": [\n          9176528,\n          3695026,\n          8862300\n        ],\n        \"semantic_type\": \"\",\n        \"description\": \"\"\n      }\n    },\n    {\n      \"column\": \"Name\",\n      \"properties\": {\n        \"dtype\": \"category\",\n        \"num_unique_values\": 1,\n        \"samples\": [\n          \"IBM\"\n        ],\n        \"semantic_type\": \"\",\n        \"description\": \"\"\n      }\n    }\n  ]\n}"
            }
          },
          "metadata": {},
          "execution_count": 2
        }
      ],
      "source": [
        "import numpy as np\n",
        "import pandas as pd\n",
        "import matplotlib.pyplot as plt\n",
        "\n",
        "from tensorflow.keras import Sequential\n",
        "from tensorflow.keras.layers import LSTM,GRU,Dense,Dropout\n",
        "\n",
        "df = pd.read_csv('https://raw.githubusercontent.com/alfredoandere/ML/master/Project1_DOJ30/stock-time-series-20050101-to-20171231/IBM_2006-01-01_to_2018-01-01.csv',index_col='Date')\n",
        "df.index = pd.to_datetime(df.index)\n",
        "df.head()"
      ]
    },
    {
      "cell_type": "code",
      "source": [
        "df.isnull().sum()\n",
        "\n",
        "df=df.Close\n",
        "df.head()\n",
        "\n",
        "df[:'2016'].plot(figsize=(10,3.5),legend=True)\n",
        "df[:'2017'].plot(figsize=(10,3.5),legend=True)\n",
        "plt.legend(['Training set(before2017)','Test set(since2017)'])\n",
        "plt.title('IBM stock price')\n",
        "plt.show"
      ],
      "metadata": {
        "colab": {
          "base_uri": "https://localhost:8080/",
          "height": 525
        },
        "id": "EgqA7EAvErZs",
        "outputId": "4f6f5867-0c78-4313-f96a-337450940052"
      },
      "execution_count": null,
      "outputs": [
        {
          "output_type": "execute_result",
          "data": {
            "text/plain": [
              "<function matplotlib.pyplot.show(close=None, block=None)>"
            ],
            "text/html": [
              "<div style=\"max-width:800px; border: 1px solid var(--colab-border-color);\"><style>\n",
              "      pre.function-repr-contents {\n",
              "        overflow-x: auto;\n",
              "        padding: 8px 12px;\n",
              "        max-height: 500px;\n",
              "      }\n",
              "\n",
              "      pre.function-repr-contents.function-repr-contents-collapsed {\n",
              "        cursor: pointer;\n",
              "        max-height: 100px;\n",
              "      }\n",
              "    </style>\n",
              "    <pre style=\"white-space: initial; background:\n",
              "         var(--colab-secondary-surface-color); padding: 8px 12px;\n",
              "         border-bottom: 1px solid var(--colab-border-color);\"><b>matplotlib.pyplot.show</b><br/>def show(*args, **kwargs)</pre><pre class=\"function-repr-contents function-repr-contents-collapsed\" style=\"\"><a class=\"filepath\" style=\"display:none\" href=\"#\">/usr/local/lib/python3.10/dist-packages/matplotlib/pyplot.py</a>Display all open figures.\n",
              "\n",
              "Parameters\n",
              "----------\n",
              "block : bool, optional\n",
              "    Whether to wait for all figures to be closed before returning.\n",
              "\n",
              "    If `True` block and run the GUI main loop until all figure windows\n",
              "    are closed.\n",
              "\n",
              "    If `False` ensure that all figure windows are displayed and return\n",
              "    immediately.  In this case, you are responsible for ensuring\n",
              "    that the event loop is running to have responsive figures.\n",
              "\n",
              "    Defaults to True in non-interactive mode and to False in interactive\n",
              "    mode (see `.pyplot.isinteractive`).\n",
              "\n",
              "See Also\n",
              "--------\n",
              "ion : Enable interactive mode, which shows / updates the figure after\n",
              "      every plotting command, so that calling ``show()`` is not necessary.\n",
              "ioff : Disable interactive mode.\n",
              "savefig : Save the figure to an image file instead of showing it on screen.\n",
              "\n",
              "Notes\n",
              "-----\n",
              "**Saving figures to file and showing a window at the same time**\n",
              "\n",
              "If you want an image file as well as a user interface window, use\n",
              "`.pyplot.savefig` before `.pyplot.show`. At the end of (a blocking)\n",
              "``show()`` the figure is closed and thus unregistered from pyplot. Calling\n",
              "`.pyplot.savefig` afterwards would save a new and thus empty figure. This\n",
              "limitation of command order does not apply if the show is non-blocking or\n",
              "if you keep a reference to the figure and use `.Figure.savefig`.\n",
              "\n",
              "**Auto-show in jupyter notebooks**\n",
              "\n",
              "The jupyter backends (activated via ``%matplotlib inline``,\n",
              "``%matplotlib notebook``, or ``%matplotlib widget``), call ``show()`` at\n",
              "the end of every cell by default. Thus, you usually don&#x27;t have to call it\n",
              "explicitly there.</pre>\n",
              "      <script>\n",
              "      if (google.colab.kernel.accessAllowed && google.colab.files && google.colab.files.view) {\n",
              "        for (const element of document.querySelectorAll('.filepath')) {\n",
              "          element.style.display = 'block'\n",
              "          element.onclick = (event) => {\n",
              "            event.preventDefault();\n",
              "            event.stopPropagation();\n",
              "            google.colab.files.view(element.textContent, 401);\n",
              "          };\n",
              "        }\n",
              "      }\n",
              "      for (const element of document.querySelectorAll('.function-repr-contents')) {\n",
              "        element.onclick = (event) => {\n",
              "          event.preventDefault();\n",
              "          event.stopPropagation();\n",
              "          element.classList.toggle('function-repr-contents-collapsed');\n",
              "        };\n",
              "      }\n",
              "      </script>\n",
              "      </div>"
            ]
          },
          "metadata": {},
          "execution_count": 4
        },
        {
          "output_type": "display_data",
          "data": {
            "text/plain": [
              "<Figure size 1000x350 with 1 Axes>"
            ],
            "image/png": "[encoded data removed]"
          },
          "metadata": {}
        }
      ]
    },
    {
      "cell_type": "code",
      "source": [
        "print('Samples:',df.shape)\n",
        "print('Train set:',df[:'2016'].shape)"
      ],
      "metadata": {
        "colab": {
          "base_uri": "https://localhost:8080/"
        },
        "id": "5S4qWsqZFLnI",
        "outputId": "8b221507-8a10-4f54-fb64-825af7042840"
      },
      "execution_count": null,
      "outputs": [
        {
          "output_type": "stream",
          "name": "stdout",
          "text": [
            "Samples: (3020,)\n",
            "Train set: (2769,)\n"
          ]
        }
      ]
    },
    {
      "cell_type": "code",
      "source": [
        "from sklearn.preprocessing import MinMaxScaler\n",
        "\n",
        "data = df.values.reshape(-1,1)\n",
        "sc=MinMaxScaler()\n",
        "data_sc = sc.fit_transform(data)"
      ],
      "metadata": {
        "id": "uiV_VOfyEro4"
      },
      "execution_count": null,
      "outputs": []
    },
    {
      "cell_type": "code",
      "source": [
        "data"
      ],
      "metadata": {
        "colab": {
          "base_uri": "https://localhost:8080/"
        },
        "id": "joOA_6MwJ7qQ",
        "outputId": "bb8fc79f-0f08-4ed4-adb4-996b5a86b503"
      },
      "execution_count": null,
      "outputs": [
        {
          "output_type": "execute_result",
          "data": {
            "text/plain": [
              "array([[ 82.06],\n",
              "       [ 81.95],\n",
              "       [ 82.5 ],\n",
              "       ...,\n",
              "       [153.13],\n",
              "       [154.04],\n",
              "       [153.42]])"
            ]
          },
          "metadata": {},
          "execution_count": 42
        }
      ]
    },
    {
      "cell_type": "code",
      "source": [
        "def convertToMetrix(data,step=1):\n",
        "  X,Y=[],[]\n",
        "  for i in range(len(data)-step):\n",
        "    d=i+step\n",
        "    X.append(data[i:d,])\n",
        "    Y.append(data[d,])\n",
        "  return np.array(X),np.array(Y)\n",
        "\n",
        "n_train = 2769\n",
        "\n",
        "train,test = data_sc[0:n_train],data_sc[n_train:]\n",
        "train.shape,test.shape"
      ],
      "metadata": {
        "colab": {
          "base_uri": "https://localhost:8080/"
        },
        "id": "zRlA--V7Euni",
        "outputId": "731380a0-4688-49f0-d7bd-709e53505bda"
      },
      "execution_count": null,
      "outputs": [
        {
          "output_type": "execute_result",
          "data": {
            "text/plain": [
              "((2769, 1), (251, 1))"
            ]
          },
          "metadata": {},
          "execution_count": 18
        }
      ]
    },
    {
      "cell_type": "code",
      "source": [
        "step = 60\n",
        "X_train,y_train = convertToMetrix(train,step)\n",
        "X_test,y_test = convertToMetrix(test,step)\n",
        "\n",
        "print('X_Train,Test(after conversatiob):',X_train.shape,X_test.shape)\n",
        "print('y_Train,Test(after conversatiob):',y_train.shape,y_test.shape)"
      ],
      "metadata": {
        "colab": {
          "base_uri": "https://localhost:8080/"
        },
        "id": "UNPk0xvqExit",
        "outputId": "7dda9a94-f2f8-4209-fb38-9dec4b284fb9"
      },
      "execution_count": null,
      "outputs": [
        {
          "output_type": "stream",
          "name": "stdout",
          "text": [
            "X_Train,Test(after conversatiob): (2709, 60, 1) (191, 60, 1)\n",
            "y_Train,Test(after conversatiob): (2709, 1) (191, 1)\n"
          ]
        }
      ]
    },
    {
      "cell_type": "code",
      "source": [
        "model = Sequential()\n",
        "model.add(GRU(units=50,return_sequences=True,input_shape=(step,1),activation='relu'))\n",
        "model.add(Dropout(0.2))\n",
        "model.add(GRU(units=40,activation='relu'))\n",
        "model.add(Dropout(0.2))\n",
        "model.add(Dense(units=1))\n",
        "\n",
        "model.compile(loss='mean_squared_error',optimizer='rmsprop')\n",
        "model.summary()"
      ],
      "metadata": {
        "colab": {
          "base_uri": "https://localhost:8080/"
        },
        "id": "pNQdRO52Ey8h",
        "outputId": "a01b4e34-3a9d-48e6-861e-2648104ea5f8"
      },
      "execution_count": null,
      "outputs": [
        {
          "output_type": "stream",
          "name": "stdout",
          "text": [
            "Model: \"sequential_1\"\n",
            "_________________________________________________________________\n",
            " Layer (type)                Output Shape              Param #   \n",
            "=================================================================\n",
            " gru_2 (GRU)                 (None, 60, 50)            7950      \n",
            "                                                                 \n",
            " dropout_2 (Dropout)         (None, 60, 50)            0         \n",
            "                                                                 \n",
            " gru_3 (GRU)                 (None, 40)                11040     \n",
            "                                                                 \n",
            " dropout_3 (Dropout)         (None, 40)                0         \n",
            "                                                                 \n",
            " dense_1 (Dense)             (None, 1)                 41        \n",
            "                                                                 \n",
            "=================================================================\n",
            "Total params: 19031 (74.34 KB)\n",
            "Trainable params: 19031 (74.34 KB)\n",
            "Non-trainable params: 0 (0.00 Byte)\n",
            "_________________________________________________________________\n"
          ]
        }
      ]
    },
    {
      "cell_type": "code",
      "source": [
        "history =  model.fit(X_train,y_train,epochs=50,batch_size=32,verbose=1)"
      ],
      "metadata": {
        "colab": {
          "base_uri": "https://localhost:8080/"
        },
        "id": "2-Sk8PMZFbz7",
        "outputId": "e75005b6-5a6e-4180-9476-d7cbecce29b6"
      },
      "execution_count": null,
      "outputs": [
        {
          "output_type": "stream",
          "name": "stdout",
          "text": [
            "Epoch 1/50\n",
            "85/85 [==============================] - 7s 53ms/step - loss: 0.0321\n",
            "Epoch 2/50\n",
            "85/85 [==============================] - 4s 46ms/step - loss: 0.0073\n",
            "Epoch 3/50\n",
            "85/85 [==============================] - 4s 48ms/step - loss: 0.0057\n",
            "Epoch 4/50\n",
            "85/85 [==============================] - 7s 79ms/step - loss: 0.0056\n",
            "Epoch 5/50\n",
            "85/85 [==============================] - 5s 59ms/step - loss: 0.0050\n",
            "Epoch 6/50\n",
            "85/85 [==============================] - 5s 54ms/step - loss: 0.0044\n",
            "Epoch 7/50\n",
            "85/85 [==============================] - 6s 68ms/step - loss: 0.0044\n",
            "Epoch 8/50\n",
            "85/85 [==============================] - 5s 63ms/step - loss: 0.0041\n",
            "Epoch 9/50\n",
            "85/85 [==============================] - 6s 75ms/step - loss: 0.0038\n",
            "Epoch 10/50\n",
            "85/85 [==============================] - 8s 100ms/step - loss: 0.0036\n",
            "Epoch 11/50\n",
            "85/85 [==============================] - 7s 83ms/step - loss: 0.0039\n",
            "Epoch 12/50\n",
            "85/85 [==============================] - 5s 54ms/step - loss: 0.0034\n",
            "Epoch 13/50\n",
            "85/85 [==============================] - 4s 52ms/step - loss: 0.0033\n",
            "Epoch 14/50\n",
            "85/85 [==============================] - 4s 47ms/step - loss: 0.0032\n",
            "Epoch 15/50\n",
            "85/85 [==============================] - 5s 63ms/step - loss: 0.0032\n",
            "Epoch 16/50\n",
            "85/85 [==============================] - 5s 53ms/step - loss: 0.0031\n",
            "Epoch 17/50\n",
            "85/85 [==============================] - 7s 76ms/step - loss: 0.0029\n",
            "Epoch 18/50\n",
            "85/85 [==============================] - 6s 71ms/step - loss: 0.0030\n",
            "Epoch 19/50\n",
            "85/85 [==============================] - 6s 75ms/step - loss: 0.0026\n",
            "Epoch 20/50\n",
            "85/85 [==============================] - 7s 78ms/step - loss: 0.0028\n",
            "Epoch 21/50\n",
            "85/85 [==============================] - 5s 61ms/step - loss: 0.0027\n",
            "Epoch 22/50\n",
            "85/85 [==============================] - 5s 61ms/step - loss: 0.0028\n",
            "Epoch 23/50\n",
            "85/85 [==============================] - 4s 46ms/step - loss: 0.0025\n",
            "Epoch 24/50\n",
            "85/85 [==============================] - 5s 54ms/step - loss: 0.0025\n",
            "Epoch 25/50\n",
            "85/85 [==============================] - 5s 55ms/step - loss: 0.0025\n",
            "Epoch 26/50\n",
            "85/85 [==============================] - 4s 48ms/step - loss: 0.0024\n",
            "Epoch 27/50\n",
            "85/85 [==============================] - 5s 60ms/step - loss: 0.0024\n",
            "Epoch 28/50\n",
            "85/85 [==============================] - 4s 49ms/step - loss: 0.0023\n",
            "Epoch 29/50\n",
            "85/85 [==============================] - 4s 48ms/step - loss: 0.0022\n",
            "Epoch 30/50\n",
            "85/85 [==============================] - 5s 60ms/step - loss: 0.0023\n",
            "Epoch 31/50\n",
            "85/85 [==============================] - 4s 47ms/step - loss: 0.0022\n",
            "Epoch 32/50\n",
            "85/85 [==============================] - 4s 46ms/step - loss: 0.0021\n",
            "Epoch 33/50\n",
            "85/85 [==============================] - 5s 60ms/step - loss: 0.0022\n",
            "Epoch 34/50\n",
            "85/85 [==============================] - 4s 46ms/step - loss: 0.0023\n",
            "Epoch 35/50\n",
            "85/85 [==============================] - 4s 47ms/step - loss: 0.0020\n",
            "Epoch 36/50\n",
            "85/85 [==============================] - 5s 60ms/step - loss: 0.0022\n",
            "Epoch 37/50\n",
            "85/85 [==============================] - 4s 47ms/step - loss: 0.0021\n",
            "Epoch 38/50\n",
            "85/85 [==============================] - 4s 45ms/step - loss: 0.0022\n",
            "Epoch 39/50\n",
            "85/85 [==============================] - 5s 65ms/step - loss: 0.0021\n",
            "Epoch 40/50\n",
            "85/85 [==============================] - 4s 47ms/step - loss: 0.0020\n",
            "Epoch 41/50\n",
            "85/85 [==============================] - 5s 55ms/step - loss: 0.0022\n",
            "Epoch 42/50\n",
            "85/85 [==============================] - 4s 50ms/step - loss: 0.0020\n",
            "Epoch 43/50\n",
            "85/85 [==============================] - 4s 51ms/step - loss: 0.0021\n",
            "Epoch 44/50\n",
            "85/85 [==============================] - 5s 61ms/step - loss: 0.0019\n",
            "Epoch 45/50\n",
            "85/85 [==============================] - 4s 44ms/step - loss: 0.0020\n",
            "Epoch 46/50\n",
            "85/85 [==============================] - 4s 47ms/step - loss: 0.0020\n",
            "Epoch 47/50\n",
            "85/85 [==============================] - 5s 61ms/step - loss: 0.0020\n",
            "Epoch 48/50\n",
            "85/85 [==============================] - 4s 47ms/step - loss: 0.0021\n",
            "Epoch 49/50\n",
            "85/85 [==============================] - 4s 46ms/step - loss: 0.0019\n",
            "Epoch 50/50\n",
            "85/85 [==============================] - 5s 60ms/step - loss: 0.0019\n"
          ]
        }
      ]
    },
    {
      "cell_type": "code",
      "source": [
        "plt.plot(history.history['loss'], label='Train loss')\n",
        "plt.legend()\n",
        "plt.show"
      ],
      "metadata": {
        "colab": {
          "base_uri": "https://localhost:8080/",
          "height": 599
        },
        "id": "j2WI6OrkFcFi",
        "outputId": "4298d52b-5754-4777-c72c-ac81f1a13d4c"
      },
      "execution_count": null,
      "outputs": [
        {
          "output_type": "execute_result",
          "data": {
            "text/plain": [
              "<function matplotlib.pyplot.show(close=None, block=None)>"
            ],
            "text/html": [
              "<div style=\"max-width:800px; border: 1px solid var(--colab-border-color);\"><style>\n",
              "      pre.function-repr-contents {\n",
              "        overflow-x: auto;\n",
              "        padding: 8px 12px;\n",
              "        max-height: 500px;\n",
              "      }\n",
              "\n",
              "      pre.function-repr-contents.function-repr-contents-collapsed {\n",
              "        cursor: pointer;\n",
              "        max-height: 100px;\n",
              "      }\n",
              "    </style>\n",
              "    <pre style=\"white-space: initial; background:\n",
              "         var(--colab-secondary-surface-color); padding: 8px 12px;\n",
              "         border-bottom: 1px solid var(--colab-border-color);\"><b>matplotlib.pyplot.show</b><br/>def show(*args, **kwargs)</pre><pre class=\"function-repr-contents function-repr-contents-collapsed\" style=\"\"><a class=\"filepath\" style=\"display:none\" href=\"#\">/usr/local/lib/python3.10/dist-packages/matplotlib/pyplot.py</a>Display all open figures.\n",
              "\n",
              "Parameters\n",
              "----------\n",
              "block : bool, optional\n",
              "    Whether to wait for all figures to be closed before returning.\n",
              "\n",
              "    If `True` block and run the GUI main loop until all figure windows\n",
              "    are closed.\n",
              "\n",
              "    If `False` ensure that all figure windows are displayed and return\n",
              "    immediately.  In this case, you are responsible for ensuring\n",
              "    that the event loop is running to have responsive figures.\n",
              "\n",
              "    Defaults to True in non-interactive mode and to False in interactive\n",
              "    mode (see `.pyplot.isinteractive`).\n",
              "\n",
              "See Also\n",
              "--------\n",
              "ion : Enable interactive mode, which shows / updates the figure after\n",
              "      every plotting command, so that calling ``show()`` is not necessary.\n",
              "ioff : Disable interactive mode.\n",
              "savefig : Save the figure to an image file instead of showing it on screen.\n",
              "\n",
              "Notes\n",
              "-----\n",
              "**Saving figures to file and showing a window at the same time**\n",
              "\n",
              "If you want an image file as well as a user interface window, use\n",
              "`.pyplot.savefig` before `.pyplot.show`. At the end of (a blocking)\n",
              "``show()`` the figure is closed and thus unregistered from pyplot. Calling\n",
              "`.pyplot.savefig` afterwards would save a new and thus empty figure. This\n",
              "limitation of command order does not apply if the show is non-blocking or\n",
              "if you keep a reference to the figure and use `.Figure.savefig`.\n",
              "\n",
              "**Auto-show in jupyter notebooks**\n",
              "\n",
              "The jupyter backends (activated via ``%matplotlib inline``,\n",
              "``%matplotlib notebook``, or ``%matplotlib widget``), call ``show()`` at\n",
              "the end of every cell by default. Thus, you usually don&#x27;t have to call it\n",
              "explicitly there.</pre>\n",
              "      <script>\n",
              "      if (google.colab.kernel.accessAllowed && google.colab.files && google.colab.files.view) {\n",
              "        for (const element of document.querySelectorAll('.filepath')) {\n",
              "          element.style.display = 'block'\n",
              "          element.onclick = (event) => {\n",
              "            event.preventDefault();\n",
              "            event.stopPropagation();\n",
              "            google.colab.files.view(element.textContent, 401);\n",
              "          };\n",
              "        }\n",
              "      }\n",
              "      for (const element of document.querySelectorAll('.function-repr-contents')) {\n",
              "        element.onclick = (event) => {\n",
              "          event.preventDefault();\n",
              "          event.stopPropagation();\n",
              "          element.classList.toggle('function-repr-contents-collapsed');\n",
              "        };\n",
              "      }\n",
              "      </script>\n",
              "      </div>"
            ]
          },
          "metadata": {},
          "execution_count": 28
        },
        {
          "output_type": "display_data",
          "data": {
            "text/plain": [
              "<Figure size 640x480 with 1 Axes>"
            ],
            "image/png": "[encoded data removed]"
          },
          "metadata": {}
        }
      ]
    },
    {
      "cell_type": "code",
      "source": [
        "testPredict = model.predict(X_test)"
      ],
      "metadata": {
        "colab": {
          "base_uri": "https://localhost:8080/"
        },
        "id": "ZKDpmo-LFhWL",
        "outputId": "48756123-46d6-4660-8ed8-9b801dbbfdd0"
      },
      "execution_count": null,
      "outputs": [
        {
          "output_type": "stream",
          "name": "stdout",
          "text": [
            "6/6 [==============================] - 0s 12ms/step\n"
          ]
        }
      ]
    },
    {
      "cell_type": "code",
      "source": [
        "from sklearn.metrics import mean_squared_error,r2_score\n",
        "\n",
        "testPredict_inv = sc.inverse_transform(testPredict)\n",
        "y_test_inv = sc.inverse_transform(y_test)\n",
        "\n",
        "r2_test = r2_score(y_test_inv,testPredict_inv)\n",
        "rmse_test=np.sqrt(mean_squared_error(y_test_inv,testPredict_inv))\n",
        "\n",
        "print('R2 Test: {:.3f}'.format(r2_test))\n",
        "print('RMSE Test: {:.3f}'.format(rmse_test))"
      ],
      "metadata": {
        "colab": {
          "base_uri": "https://localhost:8080/"
        },
        "id": "gqTZzKpnFiET",
        "outputId": "2c566a6c-88e4-4206-e5da-0ca749f60c12"
      },
      "execution_count": null,
      "outputs": [
        {
          "output_type": "stream",
          "name": "stdout",
          "text": [
            "R2 Test: 0.871\n",
            "RMSE Test: 2.675\n"
          ]
        }
      ]
    },
    {
      "cell_type": "code",
      "source": [
        "plt.figure(figsize=(12-4,3.1))\n",
        "plt.plot(y_test_inv,lw=1.3,label='Dataset(Test)')\n",
        "plt.plot(testPredict_inv,'r',lw=2.4,label='Prediction')\n",
        "plt.legend()\n",
        "plt.show()"
      ],
      "metadata": {
        "colab": {
          "base_uri": "https://localhost:8080/",
          "height": 286
        },
        "id": "AvdiifyZFigO",
        "outputId": "3d9cbb57-9ade-469f-b8a0-a68051d85ea9"
      },
      "execution_count": null,
      "outputs": [
        {
          "output_type": "display_data",
          "data": {
            "text/plain": [
              "<Figure size 800x310 with 1 Axes>"
            ],
            "image/png": "[encoded data removed]"
          },
          "metadata": {}
        }
      ]
    },
    {
      "cell_type": "markdown",
      "source": [
        "------------------------------------\n",
        "------------------------------------"
      ],
      "metadata": {
        "id": "MgnrlfDvFq8m"
      }
    },
    {
      "cell_type": "markdown",
      "source": [
        "#LSTM Test"
      ],
      "metadata": {
        "id": "G8eRUFrPFs-U"
      }
    },
    {
      "cell_type": "code",
      "source": [
        "model = Sequential()\n",
        "model.add(LSTM(units=50,return_sequences=True,input_shape=(step,1),activation='relu'))\n",
        "model.add(Dropout(0.2))\n",
        "model.add(LSTM(units=40,activation='relu'))\n",
        "model.add(Dropout(0.2))\n",
        "model.add(Dense(units=1))\n",
        "\n",
        "model.compile(loss='mean_squared_error',optimizer='rmsprop')\n",
        "model.summary()\n",
        "\n",
        "#model = Sequential()\n",
        "#model.add(GRU(units=50,return_sequences=True,input_shape=(step,1),activation='relu'))\n",
        "#model.add(Dropout(0.2))\n",
        "#model.add(GRU(units=40,activation='relu'))\n",
        "#model.add(Dropout(0.2))\n",
        "#model.add(Dense(units=1))\n",
        "\n",
        "#model.compile(loss='mean_squared_error',optimizer='rmsprop')\n",
        "#model.summary()"
      ],
      "metadata": {
        "colab": {
          "base_uri": "https://localhost:8080/"
        },
        "id": "a8S9GkX7FsHP",
        "outputId": "8fe9c7cc-6ea8-4b04-cee2-8f5c67c7ad60"
      },
      "execution_count": null,
      "outputs": [
        {
          "output_type": "stream",
          "name": "stdout",
          "text": [
            "Model: \"sequential_3\"\n",
            "_________________________________________________________________\n",
            " Layer (type)                Output Shape              Param #   \n",
            "=================================================================\n",
            " lstm_1 (LSTM)               (None, 60, 50)            10400     \n",
            "                                                                 \n",
            " dropout_5 (Dropout)         (None, 60, 50)            0         \n",
            "                                                                 \n",
            " lstm_2 (LSTM)               (None, 40)                14560     \n",
            "                                                                 \n",
            " dropout_6 (Dropout)         (None, 40)                0         \n",
            "                                                                 \n",
            " dense_2 (Dense)             (None, 1)                 41        \n",
            "                                                                 \n",
            "=================================================================\n",
            "Total params: 25001 (97.66 KB)\n",
            "Trainable params: 25001 (97.66 KB)\n",
            "Non-trainable params: 0 (0.00 Byte)\n",
            "_________________________________________________________________\n"
          ]
        }
      ]
    },
    {
      "cell_type": "code",
      "source": [
        "history =  model.fit(X_train,y_train,epochs=50,batch_size=32,verbose=1)"
      ],
      "metadata": {
        "colab": {
          "base_uri": "https://localhost:8080/"
        },
        "id": "vhkgRKUpG3pE",
        "outputId": "3d2c6d7f-77c5-4d36-e9d0-aeaa2d391c72"
      },
      "execution_count": null,
      "outputs": [
        {
          "output_type": "stream",
          "name": "stdout",
          "text": [
            "Epoch 1/50\n",
            "85/85 [==============================] - 7s 45ms/step - loss: 0.0207\n",
            "Epoch 2/50\n",
            "85/85 [==============================] - 4s 43ms/step - loss: 0.0074\n",
            "Epoch 3/50\n",
            "85/85 [==============================] - 5s 64ms/step - loss: 0.0065\n",
            "Epoch 4/50\n",
            "85/85 [==============================] - 4s 42ms/step - loss: 0.0058\n",
            "Epoch 5/50\n",
            "85/85 [==============================] - 4s 42ms/step - loss: 0.0051\n",
            "Epoch 6/50\n",
            "85/85 [==============================] - 5s 53ms/step - loss: 0.0051\n",
            "Epoch 7/50\n",
            "85/85 [==============================] - 4s 43ms/step - loss: 0.0047\n",
            "Epoch 8/50\n",
            "85/85 [==============================] - 4s 48ms/step - loss: 0.0043\n",
            "Epoch 9/50\n",
            "85/85 [==============================] - 5s 59ms/step - loss: 0.0043\n",
            "Epoch 10/50\n",
            "85/85 [==============================] - 4s 46ms/step - loss: 0.0042\n",
            "Epoch 11/50\n",
            "85/85 [==============================] - 4s 47ms/step - loss: 0.0038\n",
            "Epoch 12/50\n",
            "85/85 [==============================] - 5s 60ms/step - loss: 0.0038\n",
            "Epoch 13/50\n",
            "85/85 [==============================] - 4s 44ms/step - loss: 0.0035\n",
            "Epoch 14/50\n",
            "85/85 [==============================] - 4s 46ms/step - loss: 0.0036\n",
            "Epoch 15/50\n",
            "85/85 [==============================] - 5s 57ms/step - loss: 0.0034\n",
            "Epoch 16/50\n",
            "85/85 [==============================] - 4s 47ms/step - loss: 0.0032\n",
            "Epoch 17/50\n",
            "85/85 [==============================] - 4s 47ms/step - loss: 0.0030\n",
            "Epoch 18/50\n",
            "85/85 [==============================] - 5s 58ms/step - loss: 0.0030\n",
            "Epoch 19/50\n",
            "85/85 [==============================] - 4s 42ms/step - loss: 0.0029\n",
            "Epoch 20/50\n",
            "85/85 [==============================] - 4s 43ms/step - loss: 0.0028\n",
            "Epoch 21/50\n",
            "85/85 [==============================] - 5s 57ms/step - loss: 0.0029\n",
            "Epoch 22/50\n",
            "85/85 [==============================] - 4s 50ms/step - loss: 0.0027\n",
            "Epoch 23/50\n",
            "85/85 [==============================] - 4s 46ms/step - loss: 0.0026\n",
            "Epoch 24/50\n",
            "85/85 [==============================] - 5s 56ms/step - loss: 0.0026\n",
            "Epoch 25/50\n",
            "85/85 [==============================] - 4s 48ms/step - loss: 0.0025\n",
            "Epoch 26/50\n",
            "85/85 [==============================] - 4s 49ms/step - loss: 0.0026\n",
            "Epoch 27/50\n",
            "85/85 [==============================] - 5s 59ms/step - loss: 0.0024\n",
            "Epoch 28/50\n",
            "85/85 [==============================] - 4s 48ms/step - loss: 0.0024\n",
            "Epoch 29/50\n",
            "85/85 [==============================] - 4s 44ms/step - loss: 0.0023\n",
            "Epoch 30/50\n",
            "85/85 [==============================] - 5s 62ms/step - loss: 0.0023\n",
            "Epoch 31/50\n",
            "85/85 [==============================] - 5s 54ms/step - loss: 0.0021\n",
            "Epoch 32/50\n",
            "85/85 [==============================] - 5s 61ms/step - loss: 0.0022\n",
            "Epoch 33/50\n",
            "85/85 [==============================] - 4s 48ms/step - loss: 0.0023\n",
            "Epoch 34/50\n",
            "85/85 [==============================] - 4s 45ms/step - loss: 0.0020\n",
            "Epoch 35/50\n",
            "85/85 [==============================] - 5s 57ms/step - loss: 0.0021\n",
            "Epoch 36/50\n",
            "85/85 [==============================] - 4s 44ms/step - loss: 0.0022\n",
            "Epoch 37/50\n",
            "85/85 [==============================] - 4s 45ms/step - loss: 0.0020\n",
            "Epoch 38/50\n",
            "85/85 [==============================] - 5s 58ms/step - loss: 0.0020\n",
            "Epoch 39/50\n",
            "85/85 [==============================] - 4s 42ms/step - loss: 0.0021\n",
            "Epoch 40/50\n",
            "85/85 [==============================] - 4s 45ms/step - loss: 0.0020\n",
            "Epoch 41/50\n",
            "85/85 [==============================] - 5s 58ms/step - loss: 0.0021\n",
            "Epoch 42/50\n",
            "85/85 [==============================] - 4s 43ms/step - loss: 0.0020\n",
            "Epoch 43/50\n",
            "85/85 [==============================] - 4s 42ms/step - loss: 0.0021\n",
            "Epoch 44/50\n",
            "85/85 [==============================] - 4s 51ms/step - loss: 0.0019\n",
            "Epoch 45/50\n",
            "85/85 [==============================] - 4s 46ms/step - loss: 0.0021\n",
            "Epoch 46/50\n",
            "85/85 [==============================] - 4s 45ms/step - loss: 0.0019\n",
            "Epoch 47/50\n",
            "85/85 [==============================] - 4s 49ms/step - loss: 0.0021\n",
            "Epoch 48/50\n",
            "85/85 [==============================] - 4s 48ms/step - loss: 0.0020\n",
            "Epoch 49/50\n",
            "85/85 [==============================] - 4s 45ms/step - loss: 0.0019\n",
            "Epoch 50/50\n",
            "85/85 [==============================] - 4s 49ms/step - loss: 0.0019\n"
          ]
        }
      ]
    },
    {
      "cell_type": "code",
      "source": [
        "plt.plot(history.history['loss'], label='Train loss')\n",
        "plt.legend()\n",
        "plt.show"
      ],
      "metadata": {
        "colab": {
          "base_uri": "https://localhost:8080/",
          "height": 599
        },
        "id": "idLtI9zrG7Ao",
        "outputId": "388bc7fa-fdd9-47fb-db69-7959968ba47e"
      },
      "execution_count": null,
      "outputs": [
        {
          "output_type": "execute_result",
          "data": {
            "text/plain": [
              "<function matplotlib.pyplot.show(close=None, block=None)>"
            ],
            "text/html": [
              "<div style=\"max-width:800px; border: 1px solid var(--colab-border-color);\"><style>\n",
              "      pre.function-repr-contents {\n",
              "        overflow-x: auto;\n",
              "        padding: 8px 12px;\n",
              "        max-height: 500px;\n",
              "      }\n",
              "\n",
              "      pre.function-repr-contents.function-repr-contents-collapsed {\n",
              "        cursor: pointer;\n",
              "        max-height: 100px;\n",
              "      }\n",
              "    </style>\n",
              "    <pre style=\"white-space: initial; background:\n",
              "         var(--colab-secondary-surface-color); padding: 8px 12px;\n",
              "         border-bottom: 1px solid var(--colab-border-color);\"><b>matplotlib.pyplot.show</b><br/>def show(*args, **kwargs)</pre><pre class=\"function-repr-contents function-repr-contents-collapsed\" style=\"\"><a class=\"filepath\" style=\"display:none\" href=\"#\">/usr/local/lib/python3.10/dist-packages/matplotlib/pyplot.py</a>Display all open figures.\n",
              "\n",
              "Parameters\n",
              "----------\n",
              "block : bool, optional\n",
              "    Whether to wait for all figures to be closed before returning.\n",
              "\n",
              "    If `True` block and run the GUI main loop until all figure windows\n",
              "    are closed.\n",
              "\n",
              "    If `False` ensure that all figure windows are displayed and return\n",
              "    immediately.  In this case, you are responsible for ensuring\n",
              "    that the event loop is running to have responsive figures.\n",
              "\n",
              "    Defaults to True in non-interactive mode and to False in interactive\n",
              "    mode (see `.pyplot.isinteractive`).\n",
              "\n",
              "See Also\n",
              "--------\n",
              "ion : Enable interactive mode, which shows / updates the figure after\n",
              "      every plotting command, so that calling ``show()`` is not necessary.\n",
              "ioff : Disable interactive mode.\n",
              "savefig : Save the figure to an image file instead of showing it on screen.\n",
              "\n",
              "Notes\n",
              "-----\n",
              "**Saving figures to file and showing a window at the same time**\n",
              "\n",
              "If you want an image file as well as a user interface window, use\n",
              "`.pyplot.savefig` before `.pyplot.show`. At the end of (a blocking)\n",
              "``show()`` the figure is closed and thus unregistered from pyplot. Calling\n",
              "`.pyplot.savefig` afterwards would save a new and thus empty figure. This\n",
              "limitation of command order does not apply if the show is non-blocking or\n",
              "if you keep a reference to the figure and use `.Figure.savefig`.\n",
              "\n",
              "**Auto-show in jupyter notebooks**\n",
              "\n",
              "The jupyter backends (activated via ``%matplotlib inline``,\n",
              "``%matplotlib notebook``, or ``%matplotlib widget``), call ``show()`` at\n",
              "the end of every cell by default. Thus, you usually don&#x27;t have to call it\n",
              "explicitly there.</pre>\n",
              "      <script>\n",
              "      if (google.colab.kernel.accessAllowed && google.colab.files && google.colab.files.view) {\n",
              "        for (const element of document.querySelectorAll('.filepath')) {\n",
              "          element.style.display = 'block'\n",
              "          element.onclick = (event) => {\n",
              "            event.preventDefault();\n",
              "            event.stopPropagation();\n",
              "            google.colab.files.view(element.textContent, 401);\n",
              "          };\n",
              "        }\n",
              "      }\n",
              "      for (const element of document.querySelectorAll('.function-repr-contents')) {\n",
              "        element.onclick = (event) => {\n",
              "          event.preventDefault();\n",
              "          event.stopPropagation();\n",
              "          element.classList.toggle('function-repr-contents-collapsed');\n",
              "        };\n",
              "      }\n",
              "      </script>\n",
              "      </div>"
            ]
          },
          "metadata": {},
          "execution_count": 38
        },
        {
          "output_type": "display_data",
          "data": {
            "text/plain": [
              "<Figure size 640x480 with 1 Axes>"
            ],
            "image/png": "[encoded data removed]"
          },
          "metadata": {}
        }
      ]
    },
    {
      "cell_type": "code",
      "source": [
        "testPredict = model.predict(X_test)"
      ],
      "metadata": {
        "colab": {
          "base_uri": "https://localhost:8080/"
        },
        "id": "35TQ6m7EG89a",
        "outputId": "754f6237-0fb7-4f25-bc83-e7e5c8357b22"
      },
      "execution_count": null,
      "outputs": [
        {
          "output_type": "stream",
          "name": "stdout",
          "text": [
            "6/6 [==============================] - 0s 15ms/step\n"
          ]
        }
      ]
    },
    {
      "cell_type": "code",
      "source": [],
      "metadata": {
        "id": "mwroJVT0STkP"
      },
      "execution_count": null,
      "outputs": []
    },
    {
      "cell_type": "code",
      "source": [
        "from sklearn.metrics import mean_squared_error,r2_score\n",
        "\n",
        "testPredict_inv = sc.inverse_transform(testPredict)\n",
        "y_test_inv = sc.inverse_transform(y_test)\n",
        "\n",
        "r2_test = r2_score(y_test_inv,testPredict_inv)\n",
        "rmse_test=np.sqrt(mean_squared_error(y_test_inv,testPredict_inv))\n",
        "\n",
        "print('R2 Test: {:.3f}'.format(r2_test))\n",
        "print('RMSE Test: {:.3f}'.format(rmse_test))"
      ],
      "metadata": {
        "colab": {
          "base_uri": "https://localhost:8080/"
        },
        "id": "yfF9dkY2G-h9",
        "outputId": "83b16689-f50e-4d27-9072-4e990bf63b87"
      },
      "execution_count": null,
      "outputs": [
        {
          "output_type": "stream",
          "name": "stdout",
          "text": [
            "R2 Test: 0.822\n",
            "RMSE Test: 3.135\n"
          ]
        }
      ]
    },
    {
      "cell_type": "code",
      "source": [
        "plt.figure(figsize=(12-4,3.1))\n",
        "plt.plot(y_test_inv,lw=1.3,label='Dataset(Test)')\n",
        "plt.plot(testPredict_inv,'r',lw=2.4,label='Prediction')\n",
        "plt.legend()\n",
        "plt.show()"
      ],
      "metadata": {
        "colab": {
          "base_uri": "https://localhost:8080/",
          "height": 286
        },
        "id": "yrfN4N2sG_z-",
        "outputId": "9d9f56ea-c129-4024-817f-fef1337d574f"
      },
      "execution_count": null,
      "outputs": [
        {
          "output_type": "display_data",
          "data": {
            "text/plain": [
              "<Figure size 800x310 with 1 Axes>"
            ],
            "image/png": "[encoded data removed]"
          },
          "metadata": {}
        }
      ]
    },
    {
      "cell_type": "code",
      "source": [],
      "metadata": {
        "id": "ncbRPDXhIui9"
      },
      "execution_count": null,
      "outputs": []
    }
  ]
}