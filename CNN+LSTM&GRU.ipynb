{
  "nbformat": 4,
  "nbformat_minor": 0,
  "metadata": {
    "colab": {
      "provenance": [],
      "gpuType": "T4",
      "include_colab_link": true
    },
    "kernelspec": {
      "name": "python3",
      "display_name": "Python 3"
    },
    "language_info": {
      "name": "python"
    },
    "accelerator": "GPU"
  },
  "cells": [
    {
      "cell_type": "markdown",
      "metadata": {
        "id": "view-in-github",
        "colab_type": "text"
      },
      "source": [
        "<a href=\"https://colab.research.google.com/github/manassanant132/Time_Series/blob/main/CNN%2BLSTM%26GRU.ipynb\" target=\"_parent\"><img src=\"https://colab.research.google.com/assets/colab-badge.svg\" alt=\"Open In Colab\"/></a>"
      ]
    },
    {
      "cell_type": "markdown",
      "source": [
        "##DATA PREP"
      ],
      "metadata": {
        "id": "J0yqJecEW6L5"
      }
    },
    {
      "cell_type": "code",
      "source": [
        "import numpy as np\n",
        "import pandas as pd\n",
        "import matplotlib.pyplot as plt\n",
        "\n",
        "from tensorflow.keras import Sequential\n",
        "from tensorflow.keras.layers import LSTM,GRU,Dense,Dropout"
      ],
      "metadata": {
        "id": "EiEn7-ADXCNt"
      },
      "execution_count": 1,
      "outputs": []
    },
    {
      "cell_type": "markdown",
      "source": [
        "###TRAIN"
      ],
      "metadata": {
        "id": "X4gQVvdbW4iI"
      }
    },
    {
      "cell_type": "code",
      "source": [
        "df = pd.read_csv('/content/train.csv',usecols=['number_sold'])\n",
        "df.plot(figsize=(10,3.5),legend=True)\n",
        "plt.title('TRAIN DATA')\n",
        "plt.show"
      ],
      "metadata": {
        "id": "edkZ65OeWv_b",
        "colab": {
          "base_uri": "https://localhost:8080/",
          "height": 521
        },
        "outputId": "caa90d87-286a-403c-c0a3-e28d7e8e462a"
      },
      "execution_count": 2,
      "outputs": [
        {
          "output_type": "execute_result",
          "data": {
            "text/plain": [
              "<function matplotlib.pyplot.show(close=None, block=None)>"
            ],
            "text/html": [
              "<div style=\"max-width:800px; border: 1px solid var(--colab-border-color);\"><style>\n",
              "      pre.function-repr-contents {\n",
              "        overflow-x: auto;\n",
              "        padding: 8px 12px;\n",
              "        max-height: 500px;\n",
              "      }\n",
              "\n",
              "      pre.function-repr-contents.function-repr-contents-collapsed {\n",
              "        cursor: pointer;\n",
              "        max-height: 100px;\n",
              "      }\n",
              "    </style>\n",
              "    <pre style=\"white-space: initial; background:\n",
              "         var(--colab-secondary-surface-color); padding: 8px 12px;\n",
              "         border-bottom: 1px solid var(--colab-border-color);\"><b>matplotlib.pyplot.show</b><br/>def show(*args, **kwargs)</pre><pre class=\"function-repr-contents function-repr-contents-collapsed\" style=\"\"><a class=\"filepath\" style=\"display:none\" href=\"#\">/usr/local/lib/python3.10/dist-packages/matplotlib/pyplot.py</a>Display all open figures.\n",
              "\n",
              "Parameters\n",
              "----------\n",
              "block : bool, optional\n",
              "    Whether to wait for all figures to be closed before returning.\n",
              "\n",
              "    If `True` block and run the GUI main loop until all figure windows\n",
              "    are closed.\n",
              "\n",
              "    If `False` ensure that all figure windows are displayed and return\n",
              "    immediately.  In this case, you are responsible for ensuring\n",
              "    that the event loop is running to have responsive figures.\n",
              "\n",
              "    Defaults to True in non-interactive mode and to False in interactive\n",
              "    mode (see `.pyplot.isinteractive`).\n",
              "\n",
              "See Also\n",
              "--------\n",
              "ion : Enable interactive mode, which shows / updates the figure after\n",
              "      every plotting command, so that calling ``show()`` is not necessary.\n",
              "ioff : Disable interactive mode.\n",
              "savefig : Save the figure to an image file instead of showing it on screen.\n",
              "\n",
              "Notes\n",
              "-----\n",
              "**Saving figures to file and showing a window at the same time**\n",
              "\n",
              "If you want an image file as well as a user interface window, use\n",
              "`.pyplot.savefig` before `.pyplot.show`. At the end of (a blocking)\n",
              "``show()`` the figure is closed and thus unregistered from pyplot. Calling\n",
              "`.pyplot.savefig` afterwards would save a new and thus empty figure. This\n",
              "limitation of command order does not apply if the show is non-blocking or\n",
              "if you keep a reference to the figure and use `.Figure.savefig`.\n",
              "\n",
              "**Auto-show in jupyter notebooks**\n",
              "\n",
              "The jupyter backends (activated via ``%matplotlib inline``,\n",
              "``%matplotlib notebook``, or ``%matplotlib widget``), call ``show()`` at\n",
              "the end of every cell by default. Thus, you usually don&#x27;t have to call it\n",
              "explicitly there.</pre>\n",
              "      <script>\n",
              "      if (google.colab.kernel.accessAllowed && google.colab.files && google.colab.files.view) {\n",
              "        for (const element of document.querySelectorAll('.filepath')) {\n",
              "          element.style.display = 'block'\n",
              "          element.onclick = (event) => {\n",
              "            event.preventDefault();\n",
              "            event.stopPropagation();\n",
              "            google.colab.files.view(element.textContent, 401);\n",
              "          };\n",
              "        }\n",
              "      }\n",
              "      for (const element of document.querySelectorAll('.function-repr-contents')) {\n",
              "        element.onclick = (event) => {\n",
              "          event.preventDefault();\n",
              "          event.stopPropagation();\n",
              "          element.classList.toggle('function-repr-contents-collapsed');\n",
              "        };\n",
              "      }\n",
              "      </script>\n",
              "      </div>"
            ]
          },
          "metadata": {},
          "execution_count": 2
        },
        {
          "output_type": "display_data",
          "data": {
            "text/plain": [
              "<Figure size 1000x350 with 1 Axes>"
            ],
            "image/png": "[encoded data removed]"
          },
          "metadata": {}
        }
      ]
    },
    {
      "cell_type": "code",
      "source": [
        "from sklearn.preprocessing import MinMaxScaler\n",
        "\n",
        "data = df.values.reshape(-1,1)\n",
        "sc=MinMaxScaler()\n",
        "data_sc = sc.fit_transform(data)"
      ],
      "metadata": {
        "id": "sx-kHKTXWxA8"
      },
      "execution_count": 3,
      "outputs": []
    },
    {
      "cell_type": "code",
      "source": [
        "def convertToMetrix(data,step=1):\n",
        "  X,Y=[],[]\n",
        "  for i in range(len(data)-step):\n",
        "    d=i+step\n",
        "    X.append(data[i:d,])\n",
        "    Y.append(data[d,])\n",
        "  return np.array(X),np.array(Y)\n",
        "\n",
        "# n_train = 67\n",
        "\n",
        "# train,test = data_sc[0:n_train],data_sc[n_train:]\n",
        "# train.shape,test.shape"
      ],
      "metadata": {
        "id": "mTmMCx_kWx3Y"
      },
      "execution_count": 4,
      "outputs": []
    },
    {
      "cell_type": "code",
      "source": [
        "train = data_sc\n",
        "train.shape"
      ],
      "metadata": {
        "id": "DUTNHUUQWzat",
        "colab": {
          "base_uri": "https://localhost:8080/"
        },
        "outputId": "6ada1a1c-8f23-47c7-c7bd-5b057c65156a"
      },
      "execution_count": 5,
      "outputs": [
        {
          "output_type": "execute_result",
          "data": {
            "text/plain": [
              "(230090, 1)"
            ]
          },
          "metadata": {},
          "execution_count": 5
        }
      ]
    },
    {
      "cell_type": "markdown",
      "source": [
        "###TEST"
      ],
      "metadata": {
        "id": "nrnD1IJmWzpg"
      }
    },
    {
      "cell_type": "code",
      "execution_count": 6,
      "metadata": {
        "id": "08zkiDygVQT_",
        "colab": {
          "base_uri": "https://localhost:8080/",
          "height": 521
        },
        "outputId": "b6de5ee6-a5b1-47d0-ca23-c4b377b13660"
      },
      "outputs": [
        {
          "output_type": "execute_result",
          "data": {
            "text/plain": [
              "<function matplotlib.pyplot.show(close=None, block=None)>"
            ],
            "text/html": [
              "<div style=\"max-width:800px; border: 1px solid var(--colab-border-color);\"><style>\n",
              "      pre.function-repr-contents {\n",
              "        overflow-x: auto;\n",
              "        padding: 8px 12px;\n",
              "        max-height: 500px;\n",
              "      }\n",
              "\n",
              "      pre.function-repr-contents.function-repr-contents-collapsed {\n",
              "        cursor: pointer;\n",
              "        max-height: 100px;\n",
              "      }\n",
              "    </style>\n",
              "    <pre style=\"white-space: initial; background:\n",
              "         var(--colab-secondary-surface-color); padding: 8px 12px;\n",
              "         border-bottom: 1px solid var(--colab-border-color);\"><b>matplotlib.pyplot.show</b><br/>def show(*args, **kwargs)</pre><pre class=\"function-repr-contents function-repr-contents-collapsed\" style=\"\"><a class=\"filepath\" style=\"display:none\" href=\"#\">/usr/local/lib/python3.10/dist-packages/matplotlib/pyplot.py</a>Display all open figures.\n",
              "\n",
              "Parameters\n",
              "----------\n",
              "block : bool, optional\n",
              "    Whether to wait for all figures to be closed before returning.\n",
              "\n",
              "    If `True` block and run the GUI main loop until all figure windows\n",
              "    are closed.\n",
              "\n",
              "    If `False` ensure that all figure windows are displayed and return\n",
              "    immediately.  In this case, you are responsible for ensuring\n",
              "    that the event loop is running to have responsive figures.\n",
              "\n",
              "    Defaults to True in non-interactive mode and to False in interactive\n",
              "    mode (see `.pyplot.isinteractive`).\n",
              "\n",
              "See Also\n",
              "--------\n",
              "ion : Enable interactive mode, which shows / updates the figure after\n",
              "      every plotting command, so that calling ``show()`` is not necessary.\n",
              "ioff : Disable interactive mode.\n",
              "savefig : Save the figure to an image file instead of showing it on screen.\n",
              "\n",
              "Notes\n",
              "-----\n",
              "**Saving figures to file and showing a window at the same time**\n",
              "\n",
              "If you want an image file as well as a user interface window, use\n",
              "`.pyplot.savefig` before `.pyplot.show`. At the end of (a blocking)\n",
              "``show()`` the figure is closed and thus unregistered from pyplot. Calling\n",
              "`.pyplot.savefig` afterwards would save a new and thus empty figure. This\n",
              "limitation of command order does not apply if the show is non-blocking or\n",
              "if you keep a reference to the figure and use `.Figure.savefig`.\n",
              "\n",
              "**Auto-show in jupyter notebooks**\n",
              "\n",
              "The jupyter backends (activated via ``%matplotlib inline``,\n",
              "``%matplotlib notebook``, or ``%matplotlib widget``), call ``show()`` at\n",
              "the end of every cell by default. Thus, you usually don&#x27;t have to call it\n",
              "explicitly there.</pre>\n",
              "      <script>\n",
              "      if (google.colab.kernel.accessAllowed && google.colab.files && google.colab.files.view) {\n",
              "        for (const element of document.querySelectorAll('.filepath')) {\n",
              "          element.style.display = 'block'\n",
              "          element.onclick = (event) => {\n",
              "            event.preventDefault();\n",
              "            event.stopPropagation();\n",
              "            google.colab.files.view(element.textContent, 401);\n",
              "          };\n",
              "        }\n",
              "      }\n",
              "      for (const element of document.querySelectorAll('.function-repr-contents')) {\n",
              "        element.onclick = (event) => {\n",
              "          event.preventDefault();\n",
              "          event.stopPropagation();\n",
              "          element.classList.toggle('function-repr-contents-collapsed');\n",
              "        };\n",
              "      }\n",
              "      </script>\n",
              "      </div>"
            ]
          },
          "metadata": {},
          "execution_count": 6
        },
        {
          "output_type": "display_data",
          "data": {
            "text/plain": [
              "<Figure size 1000x350 with 1 Axes>"
            ],
            "image/png": "[encoded data removed]"
          },
          "metadata": {}
        }
      ],
      "source": [
        "df1 = pd.read_csv('/content/test.csv',usecols=['number_sold'])\n",
        "df1.plot(figsize=(10,3.5),legend=True)\n",
        "plt.title('TEST DATA')\n",
        "plt.show"
      ]
    },
    {
      "cell_type": "code",
      "source": [
        "data1 = df1.values.reshape(-1,1)\n",
        "sc=MinMaxScaler()\n",
        "data1_sc = sc.fit_transform(data1)"
      ],
      "metadata": {
        "id": "JApwNwbcWimB"
      },
      "execution_count": 7,
      "outputs": []
    },
    {
      "cell_type": "code",
      "source": [
        "test = data1_sc\n",
        "test.shape"
      ],
      "metadata": {
        "colab": {
          "base_uri": "https://localhost:8080/"
        },
        "id": "I6A8SVETWj1x",
        "outputId": "f131c39b-84de-4aa5-8806-92caacd365a3"
      },
      "execution_count": 8,
      "outputs": [
        {
          "output_type": "execute_result",
          "data": {
            "text/plain": [
              "(25550, 1)"
            ]
          },
          "metadata": {},
          "execution_count": 8
        }
      ]
    },
    {
      "cell_type": "markdown",
      "source": [
        "###STEP"
      ],
      "metadata": {
        "id": "kXEpVVijXNb4"
      }
    },
    {
      "cell_type": "code",
      "source": [
        "step = 500\n",
        "X_train,y_train = convertToMetrix(train,step)\n",
        "X_test,y_test = convertToMetrix(test,step)\n",
        "\n",
        "print('X_Train,Test(after conversatiob):',X_train.shape,X_test.shape)\n",
        "print('y_Train,Test(after conversatiob):',y_train.shape,y_test.shape)"
      ],
      "metadata": {
        "colab": {
          "base_uri": "https://localhost:8080/"
        },
        "id": "2CXWfMD7XMP8",
        "outputId": "116f11f4-6744-4a8e-e475-e7acc086ba83"
      },
      "execution_count": 9,
      "outputs": [
        {
          "output_type": "stream",
          "name": "stdout",
          "text": [
            "X_Train,Test(after conversatiob): (229590, 500, 1) (25050, 500, 1)\n",
            "y_Train,Test(after conversatiob): (229590, 1) (25050, 1)\n"
          ]
        }
      ]
    },
    {
      "cell_type": "markdown",
      "source": [
        "-------------------"
      ],
      "metadata": {
        "id": "Iu5wlS1-SFY4"
      }
    },
    {
      "cell_type": "markdown",
      "source": [
        "##No.1 : CNN+LSTM"
      ],
      "metadata": {
        "id": "6b7zpNiDYCbM"
      }
    },
    {
      "cell_type": "code",
      "source": [
        "import tensorflow as tf"
      ],
      "metadata": {
        "id": "t4BgdtXQYE3K"
      },
      "execution_count": 10,
      "outputs": []
    },
    {
      "cell_type": "code",
      "source": [
        "model = tf.keras.Sequential()\n",
        "\n",
        "# model.add(LSTM(units=120,return_sequences=False,input_shape=(step,1),activation='relu'))\n",
        "# model.add(Dropout(0.2))\n",
        "\n",
        "#1. CNN LAYER\n",
        "model.add(tf.keras.layers.Conv1D(filters = 250, kernel_size = 5, padding = 'Same', input_shape=(step,1), name = 'conv1d1'))\n",
        "model.add(tf.keras.layers.BatchNormalization(name = 'batch_norm1'))\n",
        "model.add(tf.keras.layers.Activation(\"relu\", name = 'relu1'))\n",
        "model.add(tf.keras.layers.Dropout(0.3, name = 'dropout1'))\n",
        "\n",
        "#1.1 LSTM\n",
        "\n",
        "model.add(LSTM(units=50,return_sequences=True,input_shape=(step,1),activation='relu'))\n",
        "model.add(Dropout(0.2))\n",
        "model.add(LSTM(units=40,activation='relu',return_sequences=False))\n",
        "\n",
        "# model.add(LSTM(units=40,return_sequences=False,activation='relu'))\n",
        "# model.add(LSTM(units=120,return_sequences=True,input_shape=(step,1),activation='relu'))\n",
        "# model.add(Dropout(0.2))\n",
        "# model.add(LSTM(units=40,activation='relu'))\n",
        "\n",
        "#FULLY CONNECTED LAYERq\n",
        "model.add(tf.keras.layers.Flatten(name = 'flatten1'))\n",
        "model.add(tf.keras.layers.Dense(256, name = 'dense1'))\n",
        "model.add(tf.keras.layers.BatchNormalization(name = 'batch_norm5'))\n",
        "model.add(tf.keras.layers.Activation(\"relu\", name = 'relu5'))\n",
        "model.add(tf.keras.layers.Dropout(0.30, name = 'dropout5'))\n",
        "\n",
        "#OUTPUT LAYER\n",
        "model.add(tf.keras.layers.Dense(1, name = 'dense2'))\n",
        "\n",
        "#COMPILE\n",
        "model.compile(loss='mean_squared_error',optimizer='adam')\n",
        "model.summary()"
      ],
      "metadata": {
        "colab": {
          "base_uri": "https://localhost:8080/"
        },
        "id": "GxnliJdLaM92",
        "outputId": "d5f2b5e2-88f8-48fc-fc0c-f36d00f06dda"
      },
      "execution_count": 15,
      "outputs": [
        {
          "output_type": "stream",
          "name": "stderr",
          "text": [
            "WARNING:tensorflow:Layer lstm_8 will not use cuDNN kernels since it doesn't meet the criteria. It will use a generic GPU kernel as fallback when running on GPU.\n",
            "WARNING:tensorflow:Layer lstm_9 will not use cuDNN kernels since it doesn't meet the criteria. It will use a generic GPU kernel as fallback when running on GPU.\n"
          ]
        },
        {
          "output_type": "stream",
          "name": "stdout",
          "text": [
            "Model: \"sequential_4\"\n",
            "_________________________________________________________________\n",
            " Layer (type)                Output Shape              Param #   \n",
            "=================================================================\n",
            " conv1d1 (Conv1D)            (None, 500, 250)          1500      \n",
            "                                                                 \n",
            " batch_norm1 (BatchNormaliz  (None, 500, 250)          1000      \n",
            " ation)                                                          \n",
            "                                                                 \n",
            " relu1 (Activation)          (None, 500, 250)          0         \n",
            "                                                                 \n",
            " dropout1 (Dropout)          (None, 500, 250)          0         \n",
            "                                                                 \n",
            " lstm_8 (LSTM)               (None, 500, 50)           60200     \n",
            "                                                                 \n",
            " dropout_4 (Dropout)         (None, 500, 50)           0         \n",
            "                                                                 \n",
            " lstm_9 (LSTM)               (None, 40)                14560     \n",
            "                                                                 \n",
            " flatten1 (Flatten)          (None, 40)                0         \n",
            "                                                                 \n",
            " dense1 (Dense)              (None, 256)               10496     \n",
            "                                                                 \n",
            " batch_norm5 (BatchNormaliz  (None, 256)               1024      \n",
            " ation)                                                          \n",
            "                                                                 \n",
            " relu5 (Activation)          (None, 256)               0         \n",
            "                                                                 \n",
            " dropout5 (Dropout)          (None, 256)               0         \n",
            "                                                                 \n",
            " dense2 (Dense)              (None, 1)                 257       \n",
            "                                                                 \n",
            "=================================================================\n",
            "Total params: 89037 (347.80 KB)\n",
            "Trainable params: 88025 (343.85 KB)\n",
            "Non-trainable params: 1012 (3.95 KB)\n",
            "_________________________________________________________________\n"
          ]
        }
      ]
    },
    {
      "cell_type": "code",
      "source": [
        "model = tf.keras.Sequential()\n",
        "\n",
        "#1.1 CNN LAYER\n",
        "model.add(tf.keras.layers.Conv1D(filters = 32, kernel_size = 3, padding = 'Same',activation='relu',input_shape=(step,1)))\n",
        "model.add(tf.keras.layers.MaxPool1D(pool_size=2))\n",
        "\n",
        "#1 LSTM\n",
        "\n",
        "model.add(LSTM(units=20,return_sequences=True))\n",
        "\n",
        "#FULLY CONNECTED LAYER\n",
        "model.add(tf.keras.layers.Flatten())\n",
        "model.add(tf.keras.layers.Dense(50))\n",
        "#OUTPUT LAYER\n",
        "model.add(tf.keras.layers.Dense(1))\n",
        "\n",
        "#COMPILE\n",
        "model.compile(loss='mse',optimizer='adam')\n",
        "model.summary()"
      ],
      "metadata": {
        "colab": {
          "base_uri": "https://localhost:8080/"
        },
        "id": "UAx5TZfyn4WW",
        "outputId": "c0744348-340c-46b4-cd1b-8fe8dbc29263"
      },
      "execution_count": 12,
      "outputs": [
        {
          "output_type": "stream",
          "name": "stdout",
          "text": [
            "Model: \"sequential_1\"\n",
            "_________________________________________________________________\n",
            " Layer (type)                Output Shape              Param #   \n",
            "=================================================================\n",
            " conv1d_1 (Conv1D)           (None, 500, 32)           128       \n",
            "                                                                 \n",
            " max_pooling1d_1 (MaxPoolin  (None, 250, 32)           0         \n",
            " g1D)                                                            \n",
            "                                                                 \n",
            " lstm_1 (LSTM)               (None, 250, 20)           4240      \n",
            "                                                                 \n",
            " flatten_1 (Flatten)         (None, 5000)              0         \n",
            "                                                                 \n",
            " dense_2 (Dense)             (None, 50)                250050    \n",
            "                                                                 \n",
            " dense_3 (Dense)             (None, 1)                 51        \n",
            "                                                                 \n",
            "=================================================================\n",
            "Total params: 254469 (994.02 KB)\n",
            "Trainable params: 254469 (994.02 KB)\n",
            "Non-trainable params: 0 (0.00 Byte)\n",
            "_________________________________________________________________\n"
          ]
        }
      ]
    },
    {
      "cell_type": "code",
      "source": [
        "history =  model.fit(X_train,y_train,epochs=20,batch_size=2048,verbose=1)"
      ],
      "metadata": {
        "colab": {
          "base_uri": "https://localhost:8080/"
        },
        "id": "VTbiniYPalJI",
        "outputId": "83bf0697-d45b-44f1-93b5-839cb691e821"
      },
      "execution_count": 13,
      "outputs": [
        {
          "output_type": "stream",
          "name": "stdout",
          "text": [
            "Epoch 1/20\n",
            "113/113 [==============================] - 9s 45ms/step - loss: 0.0925\n",
            "Epoch 2/20\n",
            "113/113 [==============================] - 5s 43ms/step - loss: 0.0013\n",
            "Epoch 3/20\n",
            "113/113 [==============================] - 5s 44ms/step - loss: 6.3519e-04\n",
            "Epoch 4/20\n",
            "113/113 [==============================] - 5s 44ms/step - loss: 4.1471e-04\n",
            "Epoch 5/20\n",
            "113/113 [==============================] - 5s 44ms/step - loss: 3.5845e-04\n",
            "Epoch 6/20\n",
            "113/113 [==============================] - 5s 44ms/step - loss: 3.1920e-04\n",
            "Epoch 7/20\n",
            "113/113 [==============================] - 5s 47ms/step - loss: 3.0240e-04\n",
            "Epoch 8/20\n",
            "113/113 [==============================] - 5s 45ms/step - loss: 2.9088e-04\n",
            "Epoch 9/20\n",
            "113/113 [==============================] - 5s 44ms/step - loss: 2.9660e-04\n",
            "Epoch 10/20\n",
            "113/113 [==============================] - 5s 45ms/step - loss: 2.7807e-04\n",
            "Epoch 11/20\n",
            "113/113 [==============================] - 5s 47ms/step - loss: 2.7297e-04\n",
            "Epoch 12/20\n",
            "113/113 [==============================] - 5s 44ms/step - loss: 2.6456e-04\n",
            "Epoch 13/20\n",
            "113/113 [==============================] - 5s 46ms/step - loss: 2.6312e-04\n",
            "Epoch 14/20\n",
            "113/113 [==============================] - 5s 43ms/step - loss: 2.5728e-04\n",
            "Epoch 15/20\n",
            "113/113 [==============================] - 5s 44ms/step - loss: 2.3836e-04\n",
            "Epoch 16/20\n",
            "113/113 [==============================] - 5s 44ms/step - loss: 2.4218e-04\n",
            "Epoch 17/20\n",
            "113/113 [==============================] - 5s 44ms/step - loss: 2.3855e-04\n",
            "Epoch 18/20\n",
            "113/113 [==============================] - 5s 44ms/step - loss: 2.3313e-04\n",
            "Epoch 19/20\n",
            "113/113 [==============================] - 5s 44ms/step - loss: 2.2393e-04\n",
            "Epoch 20/20\n",
            "113/113 [==============================] - 5s 46ms/step - loss: 2.1870e-04\n"
          ]
        }
      ]
    },
    {
      "cell_type": "code",
      "source": [
        "plt.plot(history.history['loss'], label='Train loss')\n",
        "plt.legend()\n",
        "plt.show"
      ],
      "metadata": {
        "id": "eH7HWOCVamJC",
        "colab": {
          "base_uri": "https://localhost:8080/",
          "height": 599
        },
        "outputId": "10e67269-cac3-4770-f6e1-290750b4019a"
      },
      "execution_count": 14,
      "outputs": [
        {
          "output_type": "execute_result",
          "data": {
            "text/plain": [
              "<function matplotlib.pyplot.show(close=None, block=None)>"
            ],
            "text/html": [
              "<div style=\"max-width:800px; border: 1px solid var(--colab-border-color);\"><style>\n",
              "      pre.function-repr-contents {\n",
              "        overflow-x: auto;\n",
              "        padding: 8px 12px;\n",
              "        max-height: 500px;\n",
              "      }\n",
              "\n",
              "      pre.function-repr-contents.function-repr-contents-collapsed {\n",
              "        cursor: pointer;\n",
              "        max-height: 100px;\n",
              "      }\n",
              "    </style>\n",
              "    <pre style=\"white-space: initial; background:\n",
              "         var(--colab-secondary-surface-color); padding: 8px 12px;\n",
              "         border-bottom: 1px solid var(--colab-border-color);\"><b>matplotlib.pyplot.show</b><br/>def show(*args, **kwargs)</pre><pre class=\"function-repr-contents function-repr-contents-collapsed\" style=\"\"><a class=\"filepath\" style=\"display:none\" href=\"#\">/usr/local/lib/python3.10/dist-packages/matplotlib/pyplot.py</a>Display all open figures.\n",
              "\n",
              "Parameters\n",
              "----------\n",
              "block : bool, optional\n",
              "    Whether to wait for all figures to be closed before returning.\n",
              "\n",
              "    If `True` block and run the GUI main loop until all figure windows\n",
              "    are closed.\n",
              "\n",
              "    If `False` ensure that all figure windows are displayed and return\n",
              "    immediately.  In this case, you are responsible for ensuring\n",
              "    that the event loop is running to have responsive figures.\n",
              "\n",
              "    Defaults to True in non-interactive mode and to False in interactive\n",
              "    mode (see `.pyplot.isinteractive`).\n",
              "\n",
              "See Also\n",
              "--------\n",
              "ion : Enable interactive mode, which shows / updates the figure after\n",
              "      every plotting command, so that calling ``show()`` is not necessary.\n",
              "ioff : Disable interactive mode.\n",
              "savefig : Save the figure to an image file instead of showing it on screen.\n",
              "\n",
              "Notes\n",
              "-----\n",
              "**Saving figures to file and showing a window at the same time**\n",
              "\n",
              "If you want an image file as well as a user interface window, use\n",
              "`.pyplot.savefig` before `.pyplot.show`. At the end of (a blocking)\n",
              "``show()`` the figure is closed and thus unregistered from pyplot. Calling\n",
              "`.pyplot.savefig` afterwards would save a new and thus empty figure. This\n",
              "limitation of command order does not apply if the show is non-blocking or\n",
              "if you keep a reference to the figure and use `.Figure.savefig`.\n",
              "\n",
              "**Auto-show in jupyter notebooks**\n",
              "\n",
              "The jupyter backends (activated via ``%matplotlib inline``,\n",
              "``%matplotlib notebook``, or ``%matplotlib widget``), call ``show()`` at\n",
              "the end of every cell by default. Thus, you usually don&#x27;t have to call it\n",
              "explicitly there.</pre>\n",
              "      <script>\n",
              "      if (google.colab.kernel.accessAllowed && google.colab.files && google.colab.files.view) {\n",
              "        for (const element of document.querySelectorAll('.filepath')) {\n",
              "          element.style.display = 'block'\n",
              "          element.onclick = (event) => {\n",
              "            event.preventDefault();\n",
              "            event.stopPropagation();\n",
              "            google.colab.files.view(element.textContent, 401);\n",
              "          };\n",
              "        }\n",
              "      }\n",
              "      for (const element of document.querySelectorAll('.function-repr-contents')) {\n",
              "        element.onclick = (event) => {\n",
              "          event.preventDefault();\n",
              "          event.stopPropagation();\n",
              "          element.classList.toggle('function-repr-contents-collapsed');\n",
              "        };\n",
              "      }\n",
              "      </script>\n",
              "      </div>"
            ]
          },
          "metadata": {},
          "execution_count": 14
        },
        {
          "output_type": "display_data",
          "data": {
            "text/plain": [
              "<Figure size 640x480 with 1 Axes>"
            ],
            "image/png": "[encoded data removed]"
          },
          "metadata": {}
        }
      ]
    },
    {
      "cell_type": "code",
      "source": [
        "testPredict = model.predict(X_test)"
      ],
      "metadata": {
        "id": "dopFDG0manP-",
        "colab": {
          "base_uri": "https://localhost:8080/"
        },
        "outputId": "e8d52475-2e4c-4107-a263-5bee1dcd90f9"
      },
      "execution_count": 15,
      "outputs": [
        {
          "output_type": "stream",
          "name": "stdout",
          "text": [
            "783/783 [==============================] - 4s 5ms/step\n"
          ]
        }
      ]
    },
    {
      "cell_type": "code",
      "source": [
        "from sklearn.metrics import mean_squared_error,r2_score\n",
        "\n",
        "testPredict_inv = sc.inverse_transform(testPredict)\n",
        "y_test_inv = sc.inverse_transform(y_test)\n",
        "\n",
        "r2_test = r2_score(y_test_inv,testPredict_inv)\n",
        "rmse_test=np.sqrt(mean_squared_error(y_test_inv,testPredict_inv))\n",
        "\n",
        "print('R2 Test: {:.3f}'.format(r2_test))\n",
        "print('RMSE Test: {:.3f}'.format(rmse_test))"
      ],
      "metadata": {
        "id": "42cTlE3saor2",
        "colab": {
          "base_uri": "https://localhost:8080/"
        },
        "outputId": "8abeecd3-3674-4519-c941-f74ed0774824"
      },
      "execution_count": 16,
      "outputs": [
        {
          "output_type": "stream",
          "name": "stdout",
          "text": [
            "R2 Test: 0.981\n",
            "RMSE Test: 29.581\n"
          ]
        }
      ]
    },
    {
      "cell_type": "code",
      "source": [
        "plt.figure(figsize=(12-4,3.1))\n",
        "plt.plot(y_test_inv,lw=1.3,label='Dataset(Test)')\n",
        "plt.plot(testPredict_inv,'r',lw=2.4,label='Prediction')\n",
        "plt.legend()\n",
        "plt.show()"
      ],
      "metadata": {
        "id": "z51cnfrkapbE"
      },
      "execution_count": null,
      "outputs": []
    },
    {
      "cell_type": "markdown",
      "source": [
        "##No.2 : LSTM+CNN"
      ],
      "metadata": {
        "id": "aR5UjOpnYFcU"
      }
    },
    {
      "cell_type": "code",
      "source": [
        "model = tf.keras.Sequential()\n",
        "\n",
        "#1 LSTM\n",
        "\n",
        "model.add(LSTM(units=50,return_sequences=True,input_shape=(step,1),activation='relu'))\n",
        "model.add(Dropout(0.2))\n",
        "model.add(LSTM(units=40,activation='relu',return_sequences=False))\n",
        "\n",
        "\n",
        "\n",
        "#1.1 CNN LAYER\n",
        "model.add(tf.keras.layers.Conv1D(filters = 250, kernel_size = 5, padding = 'Same', input_shape=(40,1,1), name = 'conv1d1'))\n",
        "model.add(tf.keras.layers.BatchNormalization(name = 'batch_norm1'))\n",
        "model.add(tf.keras.layers.Activation(\"relu\", name = 'relu1'))\n",
        "model.add(tf.keras.layers.Dropout(0.3, name = 'dropout1'))\n",
        "\n",
        "#FULLY CONNECTED LAYER\n",
        "model.add(tf.keras.layers.Flatten(name = 'flatten1'))\n",
        "model.add(tf.keras.layers.Dense(256, name = 'dense1'))\n",
        "model.add(tf.keras.layers.BatchNormalization(name = 'batch_norm5'))\n",
        "model.add(tf.keras.layers.Activation(\"relu\", name = 'relu5'))\n",
        "model.add(tf.keras.layers.Dropout(0.30, name = 'dropout5'))\n",
        "\n",
        "#OUTPUT LAYER\n",
        "model.add(tf.keras.layers.Dense(1, name = 'dense2'))\n",
        "\n",
        "#COMPILE\n",
        "model.compile(loss='mean_squared_error',optimizer='adam')\n",
        "model.summary()"
      ],
      "metadata": {
        "id": "YzWCWsDdvMBf",
        "colab": {
          "base_uri": "https://localhost:8080/",
          "height": 411
        },
        "outputId": "bb924ddd-4f66-4adc-862f-171957e8b488"
      },
      "execution_count": 36,
      "outputs": [
        {
          "output_type": "stream",
          "name": "stderr",
          "text": [
            "WARNING:tensorflow:Layer lstm_39 will not use cuDNN kernels since it doesn't meet the criteria. It will use a generic GPU kernel as fallback when running on GPU.\n",
            "WARNING:tensorflow:Layer lstm_40 will not use cuDNN kernels since it doesn't meet the criteria. It will use a generic GPU kernel as fallback when running on GPU.\n"
          ]
        },
        {
          "output_type": "error",
          "ename": "ValueError",
          "evalue": "Input 0 of layer \"conv1d1\" is incompatible with the layer: expected min_ndim=3, found ndim=2. Full shape received: (None, 40)",
          "traceback": [
            "\u001b[0;31m---------------------------------------------------------------------------\u001b[0m",
            "\u001b[0;31mValueError\u001b[0m                                Traceback (most recent call last)",
            "\u001b[0;32m<ipython-input-36-4c51b2674663>\u001b[0m in \u001b[0;36m<cell line: 12>\u001b[0;34m()\u001b[0m\n\u001b[1;32m     10\u001b[0m \u001b[0;34m\u001b[0m\u001b[0m\n\u001b[1;32m     11\u001b[0m \u001b[0;31m#1.1 CNN LAYER\u001b[0m\u001b[0;34m\u001b[0m\u001b[0;34m\u001b[0m\u001b[0m\n\u001b[0;32m---> 12\u001b[0;31m \u001b[0mmodel\u001b[0m\u001b[0;34m.\u001b[0m\u001b[0madd\u001b[0m\u001b[0;34m(\u001b[0m\u001b[0mtf\u001b[0m\u001b[0;34m.\u001b[0m\u001b[0mkeras\u001b[0m\u001b[0;34m.\u001b[0m\u001b[0mlayers\u001b[0m\u001b[0;34m.\u001b[0m\u001b[0mConv1D\u001b[0m\u001b[0;34m(\u001b[0m\u001b[0mfilters\u001b[0m \u001b[0;34m=\u001b[0m \u001b[0;36m250\u001b[0m\u001b[0;34m,\u001b[0m \u001b[0mkernel_size\u001b[0m \u001b[0;34m=\u001b[0m \u001b[0;36m5\u001b[0m\u001b[0;34m,\u001b[0m \u001b[0mpadding\u001b[0m \u001b[0;34m=\u001b[0m \u001b[0;34m'Same'\u001b[0m\u001b[0;34m,\u001b[0m \u001b[0minput_shape\u001b[0m\u001b[0;34m=\u001b[0m\u001b[0;34m(\u001b[0m\u001b[0;36m40\u001b[0m\u001b[0;34m,\u001b[0m\u001b[0;36m1\u001b[0m\u001b[0;34m,\u001b[0m\u001b[0;36m1\u001b[0m\u001b[0;34m)\u001b[0m\u001b[0;34m,\u001b[0m \u001b[0mname\u001b[0m \u001b[0;34m=\u001b[0m \u001b[0;34m'conv1d1'\u001b[0m\u001b[0;34m)\u001b[0m\u001b[0;34m)\u001b[0m\u001b[0;34m\u001b[0m\u001b[0;34m\u001b[0m\u001b[0m\n\u001b[0m\u001b[1;32m     13\u001b[0m \u001b[0mmodel\u001b[0m\u001b[0;34m.\u001b[0m\u001b[0madd\u001b[0m\u001b[0;34m(\u001b[0m\u001b[0mtf\u001b[0m\u001b[0;34m.\u001b[0m\u001b[0mkeras\u001b[0m\u001b[0;34m.\u001b[0m\u001b[0mlayers\u001b[0m\u001b[0;34m.\u001b[0m\u001b[0mBatchNormalization\u001b[0m\u001b[0;34m(\u001b[0m\u001b[0mname\u001b[0m \u001b[0;34m=\u001b[0m \u001b[0;34m'batch_norm1'\u001b[0m\u001b[0;34m)\u001b[0m\u001b[0;34m)\u001b[0m\u001b[0;34m\u001b[0m\u001b[0;34m\u001b[0m\u001b[0m\n\u001b[1;32m     14\u001b[0m \u001b[0mmodel\u001b[0m\u001b[0;34m.\u001b[0m\u001b[0madd\u001b[0m\u001b[0;34m(\u001b[0m\u001b[0mtf\u001b[0m\u001b[0;34m.\u001b[0m\u001b[0mkeras\u001b[0m\u001b[0;34m.\u001b[0m\u001b[0mlayers\u001b[0m\u001b[0;34m.\u001b[0m\u001b[0mActivation\u001b[0m\u001b[0;34m(\u001b[0m\u001b[0;34m\"relu\"\u001b[0m\u001b[0;34m,\u001b[0m \u001b[0mname\u001b[0m \u001b[0;34m=\u001b[0m \u001b[0;34m'relu1'\u001b[0m\u001b[0;34m)\u001b[0m\u001b[0;34m)\u001b[0m\u001b[0;34m\u001b[0m\u001b[0;34m\u001b[0m\u001b[0m\n",
            "\u001b[0;32m/usr/local/lib/python3.10/dist-packages/tensorflow/python/trackable/base.py\u001b[0m in \u001b[0;36m_method_wrapper\u001b[0;34m(self, *args, **kwargs)\u001b[0m\n\u001b[1;32m    202\u001b[0m     \u001b[0mself\u001b[0m\u001b[0;34m.\u001b[0m\u001b[0m_self_setattr_tracking\u001b[0m \u001b[0;34m=\u001b[0m \u001b[0;32mFalse\u001b[0m  \u001b[0;31m# pylint: disable=protected-access\u001b[0m\u001b[0;34m\u001b[0m\u001b[0;34m\u001b[0m\u001b[0m\n\u001b[1;32m    203\u001b[0m     \u001b[0;32mtry\u001b[0m\u001b[0;34m:\u001b[0m\u001b[0;34m\u001b[0m\u001b[0;34m\u001b[0m\u001b[0m\n\u001b[0;32m--> 204\u001b[0;31m       \u001b[0mresult\u001b[0m \u001b[0;34m=\u001b[0m \u001b[0mmethod\u001b[0m\u001b[0;34m(\u001b[0m\u001b[0mself\u001b[0m\u001b[0;34m,\u001b[0m \u001b[0;34m*\u001b[0m\u001b[0margs\u001b[0m\u001b[0;34m,\u001b[0m \u001b[0;34m**\u001b[0m\u001b[0mkwargs\u001b[0m\u001b[0;34m)\u001b[0m\u001b[0;34m\u001b[0m\u001b[0;34m\u001b[0m\u001b[0m\n\u001b[0m\u001b[1;32m    205\u001b[0m     \u001b[0;32mfinally\u001b[0m\u001b[0;34m:\u001b[0m\u001b[0;34m\u001b[0m\u001b[0;34m\u001b[0m\u001b[0m\n\u001b[1;32m    206\u001b[0m       \u001b[0mself\u001b[0m\u001b[0;34m.\u001b[0m\u001b[0m_self_setattr_tracking\u001b[0m \u001b[0;34m=\u001b[0m \u001b[0mprevious_value\u001b[0m  \u001b[0;31m# pylint: disable=protected-access\u001b[0m\u001b[0;34m\u001b[0m\u001b[0;34m\u001b[0m\u001b[0m\n",
            "\u001b[0;32m/usr/local/lib/python3.10/dist-packages/keras/src/utils/traceback_utils.py\u001b[0m in \u001b[0;36merror_handler\u001b[0;34m(*args, **kwargs)\u001b[0m\n\u001b[1;32m     68\u001b[0m             \u001b[0;31m# To get the full stack trace, call:\u001b[0m\u001b[0;34m\u001b[0m\u001b[0;34m\u001b[0m\u001b[0m\n\u001b[1;32m     69\u001b[0m             \u001b[0;31m# `tf.debugging.disable_traceback_filtering()`\u001b[0m\u001b[0;34m\u001b[0m\u001b[0;34m\u001b[0m\u001b[0m\n\u001b[0;32m---> 70\u001b[0;31m             \u001b[0;32mraise\u001b[0m \u001b[0me\u001b[0m\u001b[0;34m.\u001b[0m\u001b[0mwith_traceback\u001b[0m\u001b[0;34m(\u001b[0m\u001b[0mfiltered_tb\u001b[0m\u001b[0;34m)\u001b[0m \u001b[0;32mfrom\u001b[0m \u001b[0;32mNone\u001b[0m\u001b[0;34m\u001b[0m\u001b[0;34m\u001b[0m\u001b[0m\n\u001b[0m\u001b[1;32m     71\u001b[0m         \u001b[0;32mfinally\u001b[0m\u001b[0;34m:\u001b[0m\u001b[0;34m\u001b[0m\u001b[0;34m\u001b[0m\u001b[0m\n\u001b[1;32m     72\u001b[0m             \u001b[0;32mdel\u001b[0m \u001b[0mfiltered_tb\u001b[0m\u001b[0;34m\u001b[0m\u001b[0;34m\u001b[0m\u001b[0m\n",
            "\u001b[0;32m/usr/local/lib/python3.10/dist-packages/keras/src/engine/input_spec.py\u001b[0m in \u001b[0;36massert_input_compatibility\u001b[0;34m(input_spec, inputs, layer_name)\u001b[0m\n\u001b[1;32m    251\u001b[0m             \u001b[0mndim\u001b[0m \u001b[0;34m=\u001b[0m \u001b[0mx\u001b[0m\u001b[0;34m.\u001b[0m\u001b[0mshape\u001b[0m\u001b[0;34m.\u001b[0m\u001b[0mrank\u001b[0m\u001b[0;34m\u001b[0m\u001b[0;34m\u001b[0m\u001b[0m\n\u001b[1;32m    252\u001b[0m             \u001b[0;32mif\u001b[0m \u001b[0mndim\u001b[0m \u001b[0;32mis\u001b[0m \u001b[0;32mnot\u001b[0m \u001b[0;32mNone\u001b[0m \u001b[0;32mand\u001b[0m \u001b[0mndim\u001b[0m \u001b[0;34m<\u001b[0m \u001b[0mspec\u001b[0m\u001b[0;34m.\u001b[0m\u001b[0mmin_ndim\u001b[0m\u001b[0;34m:\u001b[0m\u001b[0;34m\u001b[0m\u001b[0;34m\u001b[0m\u001b[0m\n\u001b[0;32m--> 253\u001b[0;31m                 raise ValueError(\n\u001b[0m\u001b[1;32m    254\u001b[0m                     \u001b[0;34mf'Input {input_index} of layer \"{layer_name}\" '\u001b[0m\u001b[0;34m\u001b[0m\u001b[0;34m\u001b[0m\u001b[0m\n\u001b[1;32m    255\u001b[0m                     \u001b[0;34m\"is incompatible with the layer: \"\u001b[0m\u001b[0;34m\u001b[0m\u001b[0;34m\u001b[0m\u001b[0m\n",
            "\u001b[0;31mValueError\u001b[0m: Input 0 of layer \"conv1d1\" is incompatible with the layer: expected min_ndim=3, found ndim=2. Full shape received: (None, 40)"
          ]
        }
      ]
    },
    {
      "cell_type": "code",
      "source": [
        "model = tf.keras.Sequential()\n",
        "\n",
        "#1 LSTM\n",
        "\n",
        "model.add(LSTM(units=20,return_sequences=True,input_shape=(step,1)))\n",
        "\n",
        "#1.1 CNN LAYER\n",
        "model.add(tf.keras.layers.Conv1D(filters = 32, kernel_size = 3, padding = 'Same',activation='relu'))\n",
        "model.add(tf.keras.layers.MaxPool1D(pool_size=2))\n",
        "\n",
        "#FULLY CONNECTED LAYER\n",
        "model.add(tf.keras.layers.Flatten())\n",
        "model.add(tf.keras.layers.Dense(50))\n",
        "#OUTPUT LAYER\n",
        "model.add(tf.keras.layers.Dense(1))\n",
        "\n",
        "#COMPILE\n",
        "model.compile(loss='mse',optimizer='adam')\n",
        "model.summary()"
      ],
      "metadata": {
        "colab": {
          "base_uri": "https://localhost:8080/"
        },
        "id": "WctPTvk5kpXE",
        "outputId": "8cd11449-8f3b-432c-ee83-1d49455b4bc0"
      },
      "execution_count": 43,
      "outputs": [
        {
          "output_type": "stream",
          "name": "stdout",
          "text": [
            "Model: \"sequential_26\"\n",
            "_________________________________________________________________\n",
            " Layer (type)                Output Shape              Param #   \n",
            "=================================================================\n",
            " lstm_45 (LSTM)              (None, 500, 20)           1760      \n",
            "                                                                 \n",
            " conv1d_11 (Conv1D)          (None, 500, 32)           1952      \n",
            "                                                                 \n",
            " max_pooling1d_10 (MaxPooli  (None, 250, 32)           0         \n",
            " ng1D)                                                           \n",
            "                                                                 \n",
            " flatten_5 (Flatten)         (None, 8000)              0         \n",
            "                                                                 \n",
            " dense_6 (Dense)             (None, 50)                400050    \n",
            "                                                                 \n",
            " dense_7 (Dense)             (None, 1)                 51        \n",
            "                                                                 \n",
            "=================================================================\n",
            "Total params: 403813 (1.54 MB)\n",
            "Trainable params: 403813 (1.54 MB)\n",
            "Non-trainable params: 0 (0.00 Byte)\n",
            "_________________________________________________________________\n"
          ]
        }
      ]
    },
    {
      "cell_type": "code",
      "source": [
        "history =  model.fit(X_train,y_train,epochs=20,batch_size=2048,verbose=1)"
      ],
      "metadata": {
        "colab": {
          "base_uri": "https://localhost:8080/"
        },
        "id": "Y4oTg1Y19EPL",
        "outputId": "2dd573fe-8ac3-4273-91db-7d4d491568d8"
      },
      "execution_count": 44,
      "outputs": [
        {
          "output_type": "stream",
          "name": "stdout",
          "text": [
            "Epoch 1/20\n",
            "113/113 [==============================] - 12s 68ms/step - loss: 0.0865\n",
            "Epoch 2/20\n",
            "113/113 [==============================] - 8s 67ms/step - loss: 3.7269e-04\n",
            "Epoch 3/20\n",
            "113/113 [==============================] - 8s 69ms/step - loss: 2.7852e-04\n",
            "Epoch 4/20\n",
            "113/113 [==============================] - 8s 69ms/step - loss: 2.2899e-04\n",
            "Epoch 5/20\n",
            "113/113 [==============================] - 8s 70ms/step - loss: 2.0791e-04\n",
            "Epoch 6/20\n",
            "113/113 [==============================] - 8s 69ms/step - loss: 1.9559e-04\n",
            "Epoch 7/20\n",
            "113/113 [==============================] - 8s 70ms/step - loss: 1.9377e-04\n",
            "Epoch 8/20\n",
            "113/113 [==============================] - 8s 71ms/step - loss: 1.8918e-04\n",
            "Epoch 9/20\n",
            "113/113 [==============================] - 8s 71ms/step - loss: 1.7920e-04\n",
            "Epoch 10/20\n",
            "113/113 [==============================] - 8s 70ms/step - loss: 1.7755e-04\n",
            "Epoch 11/20\n",
            "113/113 [==============================] - 8s 70ms/step - loss: 1.7073e-04\n",
            "Epoch 12/20\n",
            "113/113 [==============================] - 8s 70ms/step - loss: 1.6776e-04\n",
            "Epoch 13/20\n",
            "113/113 [==============================] - 8s 70ms/step - loss: 1.6394e-04\n",
            "Epoch 14/20\n",
            "113/113 [==============================] - 8s 70ms/step - loss: 1.6897e-04\n",
            "Epoch 15/20\n",
            "113/113 [==============================] - 8s 69ms/step - loss: 1.6414e-04\n",
            "Epoch 16/20\n",
            "113/113 [==============================] - 8s 69ms/step - loss: 1.5808e-04\n",
            "Epoch 17/20\n",
            "113/113 [==============================] - 8s 70ms/step - loss: 1.6252e-04\n",
            "Epoch 18/20\n",
            "113/113 [==============================] - 8s 70ms/step - loss: 1.6517e-04\n",
            "Epoch 19/20\n",
            "113/113 [==============================] - 8s 70ms/step - loss: 1.7468e-04\n",
            "Epoch 20/20\n",
            "113/113 [==============================] - 8s 70ms/step - loss: 1.5900e-04\n"
          ]
        }
      ]
    },
    {
      "cell_type": "code",
      "source": [
        "plt.plot(history.history['loss'], label='Train loss')\n",
        "plt.legend()\n",
        "plt.show"
      ],
      "metadata": {
        "id": "3rv9y4Zt9FjF",
        "colab": {
          "base_uri": "https://localhost:8080/",
          "height": 599
        },
        "outputId": "84b574ff-2d4b-4386-eade-2123b8c482cc"
      },
      "execution_count": 45,
      "outputs": [
        {
          "output_type": "execute_result",
          "data": {
            "text/plain": [
              "<function matplotlib.pyplot.show(close=None, block=None)>"
            ],
            "text/html": [
              "<div style=\"max-width:800px; border: 1px solid var(--colab-border-color);\"><style>\n",
              "      pre.function-repr-contents {\n",
              "        overflow-x: auto;\n",
              "        padding: 8px 12px;\n",
              "        max-height: 500px;\n",
              "      }\n",
              "\n",
              "      pre.function-repr-contents.function-repr-contents-collapsed {\n",
              "        cursor: pointer;\n",
              "        max-height: 100px;\n",
              "      }\n",
              "    </style>\n",
              "    <pre style=\"white-space: initial; background:\n",
              "         var(--colab-secondary-surface-color); padding: 8px 12px;\n",
              "         border-bottom: 1px solid var(--colab-border-color);\"><b>matplotlib.pyplot.show</b><br/>def show(*args, **kwargs)</pre><pre class=\"function-repr-contents function-repr-contents-collapsed\" style=\"\"><a class=\"filepath\" style=\"display:none\" href=\"#\">/usr/local/lib/python3.10/dist-packages/matplotlib/pyplot.py</a>Display all open figures.\n",
              "\n",
              "Parameters\n",
              "----------\n",
              "block : bool, optional\n",
              "    Whether to wait for all figures to be closed before returning.\n",
              "\n",
              "    If `True` block and run the GUI main loop until all figure windows\n",
              "    are closed.\n",
              "\n",
              "    If `False` ensure that all figure windows are displayed and return\n",
              "    immediately.  In this case, you are responsible for ensuring\n",
              "    that the event loop is running to have responsive figures.\n",
              "\n",
              "    Defaults to True in non-interactive mode and to False in interactive\n",
              "    mode (see `.pyplot.isinteractive`).\n",
              "\n",
              "See Also\n",
              "--------\n",
              "ion : Enable interactive mode, which shows / updates the figure after\n",
              "      every plotting command, so that calling ``show()`` is not necessary.\n",
              "ioff : Disable interactive mode.\n",
              "savefig : Save the figure to an image file instead of showing it on screen.\n",
              "\n",
              "Notes\n",
              "-----\n",
              "**Saving figures to file and showing a window at the same time**\n",
              "\n",
              "If you want an image file as well as a user interface window, use\n",
              "`.pyplot.savefig` before `.pyplot.show`. At the end of (a blocking)\n",
              "``show()`` the figure is closed and thus unregistered from pyplot. Calling\n",
              "`.pyplot.savefig` afterwards would save a new and thus empty figure. This\n",
              "limitation of command order does not apply if the show is non-blocking or\n",
              "if you keep a reference to the figure and use `.Figure.savefig`.\n",
              "\n",
              "**Auto-show in jupyter notebooks**\n",
              "\n",
              "The jupyter backends (activated via ``%matplotlib inline``,\n",
              "``%matplotlib notebook``, or ``%matplotlib widget``), call ``show()`` at\n",
              "the end of every cell by default. Thus, you usually don&#x27;t have to call it\n",
              "explicitly there.</pre>\n",
              "      <script>\n",
              "      if (google.colab.kernel.accessAllowed && google.colab.files && google.colab.files.view) {\n",
              "        for (const element of document.querySelectorAll('.filepath')) {\n",
              "          element.style.display = 'block'\n",
              "          element.onclick = (event) => {\n",
              "            event.preventDefault();\n",
              "            event.stopPropagation();\n",
              "            google.colab.files.view(element.textContent, 401);\n",
              "          };\n",
              "        }\n",
              "      }\n",
              "      for (const element of document.querySelectorAll('.function-repr-contents')) {\n",
              "        element.onclick = (event) => {\n",
              "          event.preventDefault();\n",
              "          event.stopPropagation();\n",
              "          element.classList.toggle('function-repr-contents-collapsed');\n",
              "        };\n",
              "      }\n",
              "      </script>\n",
              "      </div>"
            ]
          },
          "metadata": {},
          "execution_count": 45
        },
        {
          "output_type": "display_data",
          "data": {
            "text/plain": [
              "<Figure size 640x480 with 1 Axes>"
            ],
            "image/png": "[encoded data removed]"
          },
          "metadata": {}
        }
      ]
    },
    {
      "cell_type": "code",
      "source": [
        "testPredict = model.predict(X_test)"
      ],
      "metadata": {
        "id": "nOOEQxh49G2R",
        "colab": {
          "base_uri": "https://localhost:8080/"
        },
        "outputId": "737879dc-b7bc-417b-bca4-42ba0f4b7882"
      },
      "execution_count": 46,
      "outputs": [
        {
          "output_type": "stream",
          "name": "stdout",
          "text": [
            "783/783 [==============================] - 7s 8ms/step\n"
          ]
        }
      ]
    },
    {
      "cell_type": "code",
      "source": [
        "from sklearn.metrics import mean_squared_error,r2_score\n",
        "\n",
        "testPredict_inv = sc.inverse_transform(testPredict)\n",
        "y_test_inv = sc.inverse_transform(y_test)\n",
        "\n",
        "r2_test = r2_score(y_test_inv,testPredict_inv)\n",
        "rmse_test=np.sqrt(mean_squared_error(y_test_inv,testPredict_inv))\n",
        "\n",
        "print('R2 Test: {:.3f}'.format(r2_test))\n",
        "print('RMSE Test: {:.3f}'.format(rmse_test))"
      ],
      "metadata": {
        "id": "iqsRTk6y9IZF",
        "colab": {
          "base_uri": "https://localhost:8080/"
        },
        "outputId": "7785da1b-b1c8-4d0e-db6b-4b6f56e03cc8"
      },
      "execution_count": 47,
      "outputs": [
        {
          "output_type": "stream",
          "name": "stdout",
          "text": [
            "R2 Test: 0.990\n",
            "RMSE Test: 21.369\n"
          ]
        }
      ]
    },
    {
      "cell_type": "code",
      "source": [
        "plt.figure(figsize=(12-4,3.1))\n",
        "plt.plot(y_test_inv,lw=1.3,label='Dataset(Test)')\n",
        "plt.plot(testPredict_inv,'r',lw=2.4,label='Prediction')\n",
        "plt.legend()\n",
        "plt.show()"
      ],
      "metadata": {
        "id": "4_mA9VVL9KAU",
        "colab": {
          "base_uri": "https://localhost:8080/",
          "height": 299
        },
        "outputId": "1ddce635-6e2a-46fe-f296-c9504769757b"
      },
      "execution_count": 48,
      "outputs": [
        {
          "output_type": "display_data",
          "data": {
            "text/plain": [
              "<Figure size 800x310 with 1 Axes>"
            ],
            "image/png": "[encoded data removed]"
          },
          "metadata": {}
        }
      ]
    },
    {
      "cell_type": "markdown",
      "source": [
        "##No.3 : CNN+GRU\n",
        "\n"
      ],
      "metadata": {
        "id": "9zBJslveX0gr"
      }
    },
    {
      "cell_type": "code",
      "source": [
        "model = tf.keras.Sequential()\n",
        "\n",
        "# model.add(LSTM(units=120,return_sequences=False,input_shape=(step,1),activation='relu'))\n",
        "# model.add(Dropout(0.2))\n",
        "\n",
        "#1. CNN LAYER\n",
        "model.add(tf.keras.layers.Conv1D(filters = 250, kernel_size = 5, padding = 'Same', input_shape=(step,1), name = 'conv1d1'))\n",
        "model.add(tf.keras.layers.BatchNormalization(name = 'batch_norm1'))\n",
        "model.add(tf.keras.layers.Activation(\"relu\", name = 'relu1'))\n",
        "model.add(tf.keras.layers.Dropout(0.3, name = 'dropout1'))\n",
        "\n",
        "#1.1 GRU\n",
        "\n",
        "model.add(GRU(units=50,return_sequences=True,input_shape=(step,1),activation='relu'))\n",
        "model.add(Dropout(0.2))\n",
        "model.add(GRU(units=40,activation='relu'))\n",
        "\n",
        "# model.add(LSTM(units=40,return_sequences=False,activation='relu'))\n",
        "# model.add(LSTM(units=120,return_sequences=True,input_shape=(step,1),activation='relu'))\n",
        "# model.add(Dropout(0.2))\n",
        "# model.add(LSTM(units=40,activation='relu'))\n",
        "\n",
        "#FULLY CONNECTED LAYERq\n",
        "model.add(tf.keras.layers.Flatten(name = 'flatten1'))\n",
        "model.add(tf.keras.layers.Dense(256, name = 'dense1'))\n",
        "model.add(tf.keras.layers.BatchNormalization(name = 'batch_norm5'))\n",
        "model.add(tf.keras.layers.Activation(\"relu\", name = 'relu5'))\n",
        "model.add(tf.keras.layers.Dropout(0.30, name = 'dropout5'))\n",
        "\n",
        "#OUTPUT LAYER\n",
        "model.add(tf.keras.layers.Dense(1, name = 'dense2'))\n",
        "\n",
        "#COMPILE\n",
        "model.compile(loss='mean_squared_error',optimizer='adam')\n",
        "model.summary()"
      ],
      "metadata": {
        "id": "3y_jw0TnYALg",
        "colab": {
          "base_uri": "https://localhost:8080/"
        },
        "outputId": "0c9d8f8d-51de-46db-9f1c-98c3ce8a1e7f"
      },
      "execution_count": null,
      "outputs": [
        {
          "output_type": "stream",
          "name": "stderr",
          "text": [
            "WARNING:tensorflow:Layer gru_2 will not use cuDNN kernels since it doesn't meet the criteria. It will use a generic GPU kernel as fallback when running on GPU.\n",
            "WARNING:tensorflow:Layer gru_3 will not use cuDNN kernels since it doesn't meet the criteria. It will use a generic GPU kernel as fallback when running on GPU.\n"
          ]
        },
        {
          "output_type": "stream",
          "name": "stdout",
          "text": [
            "Model: \"sequential_9\"\n",
            "_________________________________________________________________\n",
            " Layer (type)                Output Shape              Param #   \n",
            "=================================================================\n",
            " conv1d1 (Conv1D)            (None, 500, 250)          1500      \n",
            "                                                                 \n",
            " batch_norm1 (BatchNormaliz  (None, 500, 250)          1000      \n",
            " ation)                                                          \n",
            "                                                                 \n",
            " relu1 (Activation)          (None, 500, 250)          0         \n",
            "                                                                 \n",
            " dropout1 (Dropout)          (None, 500, 250)          0         \n",
            "                                                                 \n",
            " gru_2 (GRU)                 (None, 500, 50)           45300     \n",
            "                                                                 \n",
            " dropout_8 (Dropout)         (None, 500, 50)           0         \n",
            "                                                                 \n",
            " gru_3 (GRU)                 (None, 40)                11040     \n",
            "                                                                 \n",
            " flatten1 (Flatten)          (None, 40)                0         \n",
            "                                                                 \n",
            " dense1 (Dense)              (None, 256)               10496     \n",
            "                                                                 \n",
            " batch_norm5 (BatchNormaliz  (None, 256)               1024      \n",
            " ation)                                                          \n",
            "                                                                 \n",
            " relu5 (Activation)          (None, 256)               0         \n",
            "                                                                 \n",
            " dropout5 (Dropout)          (None, 256)               0         \n",
            "                                                                 \n",
            " dense2 (Dense)              (None, 1)                 257       \n",
            "                                                                 \n",
            "=================================================================\n",
            "Total params: 70617 (275.85 KB)\n",
            "Trainable params: 69605 (271.89 KB)\n",
            "Non-trainable params: 1012 (3.95 KB)\n",
            "_________________________________________________________________\n"
          ]
        }
      ]
    },
    {
      "cell_type": "code",
      "source": [
        "model = tf.keras.Sequential()\n",
        "\n",
        "#1.1 CNN LAYER\n",
        "model.add(tf.keras.layers.Conv1D(filters = 32, kernel_size = 3, padding = 'Same',activation='relu',input_shape=(step,1)))\n",
        "model.add(tf.keras.layers.MaxPool1D(pool_size=2))\n",
        "\n",
        "#1 LSTM\n",
        "\n",
        "model.add(GRU(units=40,return_sequences=True))\n",
        "\n",
        "#FULLY CONNECTED LAYER\n",
        "model.add(tf.keras.layers.Flatten())\n",
        "model.add(tf.keras.layers.Dense(50))\n",
        "#OUTPUT LAYER\n",
        "model.add(tf.keras.layers.Dense(1))\n",
        "\n",
        "#COMPILE\n",
        "model.compile(loss='mse',optimizer='adam')\n",
        "model.summary()"
      ],
      "metadata": {
        "colab": {
          "base_uri": "https://localhost:8080/"
        },
        "id": "JL-8-JLHqJhJ",
        "outputId": "88d8635e-12bb-4364-be3d-62cdf20e894c"
      },
      "execution_count": 17,
      "outputs": [
        {
          "output_type": "stream",
          "name": "stdout",
          "text": [
            "Model: \"sequential_2\"\n",
            "_________________________________________________________________\n",
            " Layer (type)                Output Shape              Param #   \n",
            "=================================================================\n",
            " conv1d_2 (Conv1D)           (None, 500, 32)           128       \n",
            "                                                                 \n",
            " max_pooling1d_2 (MaxPoolin  (None, 250, 32)           0         \n",
            " g1D)                                                            \n",
            "                                                                 \n",
            " gru (GRU)                   (None, 250, 40)           8880      \n",
            "                                                                 \n",
            " flatten_2 (Flatten)         (None, 10000)             0         \n",
            "                                                                 \n",
            " dense_4 (Dense)             (None, 50)                500050    \n",
            "                                                                 \n",
            " dense_5 (Dense)             (None, 1)                 51        \n",
            "                                                                 \n",
            "=================================================================\n",
            "Total params: 509109 (1.94 MB)\n",
            "Trainable params: 509109 (1.94 MB)\n",
            "Non-trainable params: 0 (0.00 Byte)\n",
            "_________________________________________________________________\n"
          ]
        }
      ]
    },
    {
      "cell_type": "code",
      "source": [
        "history =  model.fit(X_train,y_train,epochs=20,batch_size=2048,verbose=1)"
      ],
      "metadata": {
        "colab": {
          "base_uri": "https://localhost:8080/"
        },
        "id": "RZsDGO5J9ti-",
        "outputId": "95eedb2b-5438-45ac-d659-de2199114cf2"
      },
      "execution_count": 18,
      "outputs": [
        {
          "output_type": "stream",
          "name": "stdout",
          "text": [
            "Epoch 1/20\n",
            "113/113 [==============================] - 10s 63ms/step - loss: 0.0679\n",
            "Epoch 2/20\n",
            "113/113 [==============================] - 7s 64ms/step - loss: 9.9986e-04\n",
            "Epoch 3/20\n",
            "113/113 [==============================] - 7s 64ms/step - loss: 4.0794e-04\n",
            "Epoch 4/20\n",
            "113/113 [==============================] - 7s 66ms/step - loss: 3.2831e-04\n",
            "Epoch 5/20\n",
            "113/113 [==============================] - 8s 68ms/step - loss: 2.7865e-04\n",
            "Epoch 6/20\n",
            "113/113 [==============================] - 8s 67ms/step - loss: 2.5851e-04\n",
            "Epoch 7/20\n",
            "113/113 [==============================] - 7s 66ms/step - loss: 2.4317e-04\n",
            "Epoch 8/20\n",
            "113/113 [==============================] - 7s 66ms/step - loss: 2.2687e-04\n",
            "Epoch 9/20\n",
            "113/113 [==============================] - 8s 67ms/step - loss: 2.1281e-04\n",
            "Epoch 10/20\n",
            "113/113 [==============================] - 7s 65ms/step - loss: 2.1683e-04\n",
            "Epoch 11/20\n",
            "113/113 [==============================] - 7s 65ms/step - loss: 1.9790e-04\n",
            "Epoch 12/20\n",
            "113/113 [==============================] - 7s 66ms/step - loss: 1.9605e-04\n",
            "Epoch 13/20\n",
            "113/113 [==============================] - 7s 66ms/step - loss: 1.8405e-04\n",
            "Epoch 14/20\n",
            "113/113 [==============================] - 7s 65ms/step - loss: 1.9381e-04\n",
            "Epoch 15/20\n",
            "113/113 [==============================] - 7s 65ms/step - loss: 1.7058e-04\n",
            "Epoch 16/20\n",
            "113/113 [==============================] - 7s 64ms/step - loss: 1.7488e-04\n",
            "Epoch 17/20\n",
            "113/113 [==============================] - 7s 66ms/step - loss: 1.6394e-04\n",
            "Epoch 18/20\n",
            "113/113 [==============================] - 8s 67ms/step - loss: 1.6584e-04\n",
            "Epoch 19/20\n",
            "113/113 [==============================] - 7s 65ms/step - loss: 1.6012e-04\n",
            "Epoch 20/20\n",
            "113/113 [==============================] - 7s 65ms/step - loss: 1.5909e-04\n"
          ]
        }
      ]
    },
    {
      "cell_type": "code",
      "source": [
        "plt.plot(history.history['loss'], label='Train loss')\n",
        "plt.legend()\n",
        "plt.show"
      ],
      "metadata": {
        "colab": {
          "base_uri": "https://localhost:8080/",
          "height": 599
        },
        "id": "MXrbwZ8G9vfF",
        "outputId": "84b963ec-02dd-4f0b-835d-6417cf0fbbfa"
      },
      "execution_count": 19,
      "outputs": [
        {
          "output_type": "execute_result",
          "data": {
            "text/plain": [
              "<function matplotlib.pyplot.show(close=None, block=None)>"
            ],
            "text/html": [
              "<div style=\"max-width:800px; border: 1px solid var(--colab-border-color);\"><style>\n",
              "      pre.function-repr-contents {\n",
              "        overflow-x: auto;\n",
              "        padding: 8px 12px;\n",
              "        max-height: 500px;\n",
              "      }\n",
              "\n",
              "      pre.function-repr-contents.function-repr-contents-collapsed {\n",
              "        cursor: pointer;\n",
              "        max-height: 100px;\n",
              "      }\n",
              "    </style>\n",
              "    <pre style=\"white-space: initial; background:\n",
              "         var(--colab-secondary-surface-color); padding: 8px 12px;\n",
              "         border-bottom: 1px solid var(--colab-border-color);\"><b>matplotlib.pyplot.show</b><br/>def show(*args, **kwargs)</pre><pre class=\"function-repr-contents function-repr-contents-collapsed\" style=\"\"><a class=\"filepath\" style=\"display:none\" href=\"#\">/usr/local/lib/python3.10/dist-packages/matplotlib/pyplot.py</a>Display all open figures.\n",
              "\n",
              "Parameters\n",
              "----------\n",
              "block : bool, optional\n",
              "    Whether to wait for all figures to be closed before returning.\n",
              "\n",
              "    If `True` block and run the GUI main loop until all figure windows\n",
              "    are closed.\n",
              "\n",
              "    If `False` ensure that all figure windows are displayed and return\n",
              "    immediately.  In this case, you are responsible for ensuring\n",
              "    that the event loop is running to have responsive figures.\n",
              "\n",
              "    Defaults to True in non-interactive mode and to False in interactive\n",
              "    mode (see `.pyplot.isinteractive`).\n",
              "\n",
              "See Also\n",
              "--------\n",
              "ion : Enable interactive mode, which shows / updates the figure after\n",
              "      every plotting command, so that calling ``show()`` is not necessary.\n",
              "ioff : Disable interactive mode.\n",
              "savefig : Save the figure to an image file instead of showing it on screen.\n",
              "\n",
              "Notes\n",
              "-----\n",
              "**Saving figures to file and showing a window at the same time**\n",
              "\n",
              "If you want an image file as well as a user interface window, use\n",
              "`.pyplot.savefig` before `.pyplot.show`. At the end of (a blocking)\n",
              "``show()`` the figure is closed and thus unregistered from pyplot. Calling\n",
              "`.pyplot.savefig` afterwards would save a new and thus empty figure. This\n",
              "limitation of command order does not apply if the show is non-blocking or\n",
              "if you keep a reference to the figure and use `.Figure.savefig`.\n",
              "\n",
              "**Auto-show in jupyter notebooks**\n",
              "\n",
              "The jupyter backends (activated via ``%matplotlib inline``,\n",
              "``%matplotlib notebook``, or ``%matplotlib widget``), call ``show()`` at\n",
              "the end of every cell by default. Thus, you usually don&#x27;t have to call it\n",
              "explicitly there.</pre>\n",
              "      <script>\n",
              "      if (google.colab.kernel.accessAllowed && google.colab.files && google.colab.files.view) {\n",
              "        for (const element of document.querySelectorAll('.filepath')) {\n",
              "          element.style.display = 'block'\n",
              "          element.onclick = (event) => {\n",
              "            event.preventDefault();\n",
              "            event.stopPropagation();\n",
              "            google.colab.files.view(element.textContent, 401);\n",
              "          };\n",
              "        }\n",
              "      }\n",
              "      for (const element of document.querySelectorAll('.function-repr-contents')) {\n",
              "        element.onclick = (event) => {\n",
              "          event.preventDefault();\n",
              "          event.stopPropagation();\n",
              "          element.classList.toggle('function-repr-contents-collapsed');\n",
              "        };\n",
              "      }\n",
              "      </script>\n",
              "      </div>"
            ]
          },
          "metadata": {},
          "execution_count": 19
        },
        {
          "output_type": "display_data",
          "data": {
            "text/plain": [
              "<Figure size 640x480 with 1 Axes>"
            ],
            "image/png": "[encoded data removed]"
          },
          "metadata": {}
        }
      ]
    },
    {
      "cell_type": "code",
      "source": [
        "testPredict = model.predict(X_test)"
      ],
      "metadata": {
        "colab": {
          "base_uri": "https://localhost:8080/"
        },
        "id": "MSavJ6dG9w6P",
        "outputId": "6ab0db52-6ff1-421e-af34-70c64d079046"
      },
      "execution_count": 20,
      "outputs": [
        {
          "output_type": "stream",
          "name": "stdout",
          "text": [
            "783/783 [==============================] - 4s 5ms/step\n"
          ]
        }
      ]
    },
    {
      "cell_type": "code",
      "source": [
        "from sklearn.metrics import mean_squared_error,r2_score\n",
        "\n",
        "testPredict_inv = sc.inverse_transform(testPredict)\n",
        "y_test_inv = sc.inverse_transform(y_test)\n",
        "\n",
        "r2_test = r2_score(y_test_inv,testPredict_inv)\n",
        "rmse_test=np.sqrt(mean_squared_error(y_test_inv,testPredict_inv))\n",
        "\n",
        "print('R2 Test: {:.3f}'.format(r2_test))\n",
        "print('RMSE Test: {:.3f}'.format(rmse_test))"
      ],
      "metadata": {
        "colab": {
          "base_uri": "https://localhost:8080/"
        },
        "id": "sJNrdyOa9yDc",
        "outputId": "c71251ea-edae-45d5-a56e-318f63ecb40d"
      },
      "execution_count": 21,
      "outputs": [
        {
          "output_type": "stream",
          "name": "stdout",
          "text": [
            "R2 Test: 0.989\n",
            "RMSE Test: 21.906\n"
          ]
        }
      ]
    },
    {
      "cell_type": "code",
      "source": [
        "plt.figure(figsize=(12-4,3.1))\n",
        "plt.plot(y_test_inv,lw=1.3,label='Dataset(Test)')\n",
        "plt.plot(testPredict_inv,'r',lw=2.4,label='Prediction')\n",
        "plt.legend()\n",
        "plt.show()"
      ],
      "metadata": {
        "colab": {
          "base_uri": "https://localhost:8080/",
          "height": 299
        },
        "id": "0eu9V0Jv9zZ0",
        "outputId": "a8e0a244-53fb-4c63-d19f-75255ca6fe13"
      },
      "execution_count": 22,
      "outputs": [
        {
          "output_type": "display_data",
          "data": {
            "text/plain": [
              "<Figure size 800x310 with 1 Axes>"
            ],
            "image/png": "[encoded data removed]"
          },
          "metadata": {}
        }
      ]
    },
    {
      "cell_type": "markdown",
      "source": [
        "---------------"
      ],
      "metadata": {
        "id": "htMTeRp4SMoM"
      }
    },
    {
      "cell_type": "markdown",
      "source": [
        "##No.4 : GRU+CNN"
      ],
      "metadata": {
        "id": "ZKAQa4yaX6Jf"
      }
    },
    {
      "cell_type": "code",
      "source": [
        "model = tf.keras.Sequential()\n",
        "\n",
        "# model.add(LSTM(units=120,return_sequences=False,input_shape=(step,1),activation='relu'))\n",
        "# model.add(Dropout(0.2))\n",
        "\n",
        "#1 GRU\n",
        "\n",
        "model.add(GRU(units=50,return_sequences=True,input_shape=(step,1),activation='relu'))\n",
        "model.add(Dropout(0.2))\n",
        "model.add(GRU(units=40,activation='relu'))\n",
        "\n",
        "#1.1 CNN LAYER\n",
        "model.add(tf.keras.layers.Conv1D(filters = 250, kernel_size = 5, padding = 'Same', input_shape=(step,1), name = 'conv1d1'))\n",
        "model.add(tf.keras.layers.BatchNormalization(name = 'batch_norm1'))\n",
        "model.add(tf.keras.layers.Activation(\"relu\", name = 'relu1'))\n",
        "model.add(tf.keras.layers.Dropout(0.3, name = 'dropout1'))\n",
        "\n",
        "# model.add(LSTM(units=40,return_sequences=False,activation='relu'))\n",
        "# model.add(LSTM(units=120,return_sequences=True,input_shape=(step,1),activation='relu'))\n",
        "# model.add(Dropout(0.2))\n",
        "# model.add(LSTM(units=40,activation='relu'))\n",
        "\n",
        "#FULLY CONNECTED LAYERq\n",
        "model.add(tf.keras.layers.Flatten(name = 'flatten1'))\n",
        "model.add(tf.keras.layers.Dense(256, name = 'dense1'))\n",
        "model.add(tf.keras.layers.BatchNormalization(name = 'batch_norm5'))\n",
        "model.add(tf.keras.layers.Activation(\"relu\", name = 'relu5'))\n",
        "model.add(tf.keras.layers.Dropout(0.30, name = 'dropout5'))\n",
        "\n",
        "#OUTPUT LAYER\n",
        "model.add(tf.keras.layers.Dense(1, name = 'dense2'))\n",
        "\n",
        "#COMPILE\n",
        "model.compile(loss='mean_squared_error',optimizer='adam')\n",
        "model.summary()\n",
        "\n",
        "#Mai Pan"
      ],
      "metadata": {
        "colab": {
          "base_uri": "https://localhost:8080/",
          "height": 391
        },
        "id": "ZO3Qpxce9iXK",
        "outputId": "e0f64e28-9ae6-4845-aea0-6f6fada9b1c1"
      },
      "execution_count": null,
      "outputs": [
        {
          "output_type": "stream",
          "name": "stderr",
          "text": [
            "WARNING:tensorflow:Layer gru_4 will not use cuDNN kernels since it doesn't meet the criteria. It will use a generic GPU kernel as fallback when running on GPU.\n",
            "WARNING:tensorflow:Layer gru_5 will not use cuDNN kernels since it doesn't meet the criteria. It will use a generic GPU kernel as fallback when running on GPU.\n"
          ]
        },
        {
          "output_type": "error",
          "ename": "ValueError",
          "evalue": "Input 0 of layer \"conv1d1\" is incompatible with the layer: expected min_ndim=3, found ndim=2. Full shape received: (None, 40)",
          "traceback": [
            "\u001b[0;31m---------------------------------------------------------------------------\u001b[0m",
            "\u001b[0;31mValueError\u001b[0m                                Traceback (most recent call last)",
            "\u001b[0;32m<ipython-input-32-db688244cc29>\u001b[0m in \u001b[0;36m<cell line: 13>\u001b[0;34m()\u001b[0m\n\u001b[1;32m     11\u001b[0m \u001b[0;34m\u001b[0m\u001b[0m\n\u001b[1;32m     12\u001b[0m \u001b[0;31m#1.1 CNN LAYER\u001b[0m\u001b[0;34m\u001b[0m\u001b[0;34m\u001b[0m\u001b[0m\n\u001b[0;32m---> 13\u001b[0;31m \u001b[0mmodel\u001b[0m\u001b[0;34m.\u001b[0m\u001b[0madd\u001b[0m\u001b[0;34m(\u001b[0m\u001b[0mtf\u001b[0m\u001b[0;34m.\u001b[0m\u001b[0mkeras\u001b[0m\u001b[0;34m.\u001b[0m\u001b[0mlayers\u001b[0m\u001b[0;34m.\u001b[0m\u001b[0mConv1D\u001b[0m\u001b[0;34m(\u001b[0m\u001b[0mfilters\u001b[0m \u001b[0;34m=\u001b[0m \u001b[0;36m250\u001b[0m\u001b[0;34m,\u001b[0m \u001b[0mkernel_size\u001b[0m \u001b[0;34m=\u001b[0m \u001b[0;36m5\u001b[0m\u001b[0;34m,\u001b[0m \u001b[0mpadding\u001b[0m \u001b[0;34m=\u001b[0m \u001b[0;34m'Same'\u001b[0m\u001b[0;34m,\u001b[0m \u001b[0minput_shape\u001b[0m\u001b[0;34m=\u001b[0m\u001b[0;34m(\u001b[0m\u001b[0mstep\u001b[0m\u001b[0;34m,\u001b[0m\u001b[0;36m1\u001b[0m\u001b[0;34m)\u001b[0m\u001b[0;34m,\u001b[0m \u001b[0mname\u001b[0m \u001b[0;34m=\u001b[0m \u001b[0;34m'conv1d1'\u001b[0m\u001b[0;34m)\u001b[0m\u001b[0;34m)\u001b[0m\u001b[0;34m\u001b[0m\u001b[0;34m\u001b[0m\u001b[0m\n\u001b[0m\u001b[1;32m     14\u001b[0m \u001b[0mmodel\u001b[0m\u001b[0;34m.\u001b[0m\u001b[0madd\u001b[0m\u001b[0;34m(\u001b[0m\u001b[0mtf\u001b[0m\u001b[0;34m.\u001b[0m\u001b[0mkeras\u001b[0m\u001b[0;34m.\u001b[0m\u001b[0mlayers\u001b[0m\u001b[0;34m.\u001b[0m\u001b[0mBatchNormalization\u001b[0m\u001b[0;34m(\u001b[0m\u001b[0mname\u001b[0m \u001b[0;34m=\u001b[0m \u001b[0;34m'batch_norm1'\u001b[0m\u001b[0;34m)\u001b[0m\u001b[0;34m)\u001b[0m\u001b[0;34m\u001b[0m\u001b[0;34m\u001b[0m\u001b[0m\n\u001b[1;32m     15\u001b[0m \u001b[0mmodel\u001b[0m\u001b[0;34m.\u001b[0m\u001b[0madd\u001b[0m\u001b[0;34m(\u001b[0m\u001b[0mtf\u001b[0m\u001b[0;34m.\u001b[0m\u001b[0mkeras\u001b[0m\u001b[0;34m.\u001b[0m\u001b[0mlayers\u001b[0m\u001b[0;34m.\u001b[0m\u001b[0mActivation\u001b[0m\u001b[0;34m(\u001b[0m\u001b[0;34m\"relu\"\u001b[0m\u001b[0;34m,\u001b[0m \u001b[0mname\u001b[0m \u001b[0;34m=\u001b[0m \u001b[0;34m'relu1'\u001b[0m\u001b[0;34m)\u001b[0m\u001b[0;34m)\u001b[0m\u001b[0;34m\u001b[0m\u001b[0;34m\u001b[0m\u001b[0m\n",
            "\u001b[0;32m/usr/local/lib/python3.10/dist-packages/tensorflow/python/trackable/base.py\u001b[0m in \u001b[0;36m_method_wrapper\u001b[0;34m(self, *args, **kwargs)\u001b[0m\n\u001b[1;32m    202\u001b[0m     \u001b[0mself\u001b[0m\u001b[0;34m.\u001b[0m\u001b[0m_self_setattr_tracking\u001b[0m \u001b[0;34m=\u001b[0m \u001b[0;32mFalse\u001b[0m  \u001b[0;31m# pylint: disable=protected-access\u001b[0m\u001b[0;34m\u001b[0m\u001b[0;34m\u001b[0m\u001b[0m\n\u001b[1;32m    203\u001b[0m     \u001b[0;32mtry\u001b[0m\u001b[0;34m:\u001b[0m\u001b[0;34m\u001b[0m\u001b[0;34m\u001b[0m\u001b[0m\n\u001b[0;32m--> 204\u001b[0;31m       \u001b[0mresult\u001b[0m \u001b[0;34m=\u001b[0m \u001b[0mmethod\u001b[0m\u001b[0;34m(\u001b[0m\u001b[0mself\u001b[0m\u001b[0;34m,\u001b[0m \u001b[0;34m*\u001b[0m\u001b[0margs\u001b[0m\u001b[0;34m,\u001b[0m \u001b[0;34m**\u001b[0m\u001b[0mkwargs\u001b[0m\u001b[0;34m)\u001b[0m\u001b[0;34m\u001b[0m\u001b[0;34m\u001b[0m\u001b[0m\n\u001b[0m\u001b[1;32m    205\u001b[0m     \u001b[0;32mfinally\u001b[0m\u001b[0;34m:\u001b[0m\u001b[0;34m\u001b[0m\u001b[0;34m\u001b[0m\u001b[0m\n\u001b[1;32m    206\u001b[0m       \u001b[0mself\u001b[0m\u001b[0;34m.\u001b[0m\u001b[0m_self_setattr_tracking\u001b[0m \u001b[0;34m=\u001b[0m \u001b[0mprevious_value\u001b[0m  \u001b[0;31m# pylint: disable=protected-access\u001b[0m\u001b[0;34m\u001b[0m\u001b[0;34m\u001b[0m\u001b[0m\n",
            "\u001b[0;32m/usr/local/lib/python3.10/dist-packages/keras/src/utils/traceback_utils.py\u001b[0m in \u001b[0;36merror_handler\u001b[0;34m(*args, **kwargs)\u001b[0m\n\u001b[1;32m     68\u001b[0m             \u001b[0;31m# To get the full stack trace, call:\u001b[0m\u001b[0;34m\u001b[0m\u001b[0;34m\u001b[0m\u001b[0m\n\u001b[1;32m     69\u001b[0m             \u001b[0;31m# `tf.debugging.disable_traceback_filtering()`\u001b[0m\u001b[0;34m\u001b[0m\u001b[0;34m\u001b[0m\u001b[0m\n\u001b[0;32m---> 70\u001b[0;31m             \u001b[0;32mraise\u001b[0m \u001b[0me\u001b[0m\u001b[0;34m.\u001b[0m\u001b[0mwith_traceback\u001b[0m\u001b[0;34m(\u001b[0m\u001b[0mfiltered_tb\u001b[0m\u001b[0;34m)\u001b[0m \u001b[0;32mfrom\u001b[0m \u001b[0;32mNone\u001b[0m\u001b[0;34m\u001b[0m\u001b[0;34m\u001b[0m\u001b[0m\n\u001b[0m\u001b[1;32m     71\u001b[0m         \u001b[0;32mfinally\u001b[0m\u001b[0;34m:\u001b[0m\u001b[0;34m\u001b[0m\u001b[0;34m\u001b[0m\u001b[0m\n\u001b[1;32m     72\u001b[0m             \u001b[0;32mdel\u001b[0m \u001b[0mfiltered_tb\u001b[0m\u001b[0;34m\u001b[0m\u001b[0;34m\u001b[0m\u001b[0m\n",
            "\u001b[0;32m/usr/local/lib/python3.10/dist-packages/keras/src/engine/input_spec.py\u001b[0m in \u001b[0;36massert_input_compatibility\u001b[0;34m(input_spec, inputs, layer_name)\u001b[0m\n\u001b[1;32m    251\u001b[0m             \u001b[0mndim\u001b[0m \u001b[0;34m=\u001b[0m \u001b[0mx\u001b[0m\u001b[0;34m.\u001b[0m\u001b[0mshape\u001b[0m\u001b[0;34m.\u001b[0m\u001b[0mrank\u001b[0m\u001b[0;34m\u001b[0m\u001b[0;34m\u001b[0m\u001b[0m\n\u001b[1;32m    252\u001b[0m             \u001b[0;32mif\u001b[0m \u001b[0mndim\u001b[0m \u001b[0;32mis\u001b[0m \u001b[0;32mnot\u001b[0m \u001b[0;32mNone\u001b[0m \u001b[0;32mand\u001b[0m \u001b[0mndim\u001b[0m \u001b[0;34m<\u001b[0m \u001b[0mspec\u001b[0m\u001b[0;34m.\u001b[0m\u001b[0mmin_ndim\u001b[0m\u001b[0;34m:\u001b[0m\u001b[0;34m\u001b[0m\u001b[0;34m\u001b[0m\u001b[0m\n\u001b[0;32m--> 253\u001b[0;31m                 raise ValueError(\n\u001b[0m\u001b[1;32m    254\u001b[0m                     \u001b[0;34mf'Input {input_index} of layer \"{layer_name}\" '\u001b[0m\u001b[0;34m\u001b[0m\u001b[0;34m\u001b[0m\u001b[0m\n\u001b[1;32m    255\u001b[0m                     \u001b[0;34m\"is incompatible with the layer: \"\u001b[0m\u001b[0;34m\u001b[0m\u001b[0;34m\u001b[0m\u001b[0m\n",
            "\u001b[0;31mValueError\u001b[0m: Input 0 of layer \"conv1d1\" is incompatible with the layer: expected min_ndim=3, found ndim=2. Full shape received: (None, 40)"
          ]
        }
      ]
    },
    {
      "cell_type": "code",
      "source": [
        "model = tf.keras.Sequential()\n",
        "\n",
        "#1 GRU\n",
        "\n",
        "model.add(GRU(units=20,return_sequences=True,input_shape=(step,1)))\n",
        "\n",
        "#1.1 CNN LAYER\n",
        "model.add(tf.keras.layers.Conv1D(filters = 32, kernel_size = 3, padding = 'Same',activation='relu'))\n",
        "model.add(tf.keras.layers.MaxPool1D(pool_size=2))\n",
        "\n",
        "#FULLY CONNECTED LAYER\n",
        "model.add(tf.keras.layers.Flatten())\n",
        "model.add(tf.keras.layers.Dense(50))\n",
        "#OUTPUT LAYER\n",
        "model.add(tf.keras.layers.Dense(1))\n",
        "\n",
        "#COMPILE\n",
        "model.compile(loss='mse',optimizer='adam')\n",
        "model.summary()"
      ],
      "metadata": {
        "colab": {
          "base_uri": "https://localhost:8080/"
        },
        "id": "fVwXGqLUqxY4",
        "outputId": "0ccedfae-8e69-439a-b16e-3a6c5a352c60"
      },
      "execution_count": 23,
      "outputs": [
        {
          "output_type": "stream",
          "name": "stdout",
          "text": [
            "Model: \"sequential_3\"\n",
            "_________________________________________________________________\n",
            " Layer (type)                Output Shape              Param #   \n",
            "=================================================================\n",
            " gru_1 (GRU)                 (None, 500, 20)           1380      \n",
            "                                                                 \n",
            " conv1d_3 (Conv1D)           (None, 500, 32)           1952      \n",
            "                                                                 \n",
            " max_pooling1d_3 (MaxPoolin  (None, 250, 32)           0         \n",
            " g1D)                                                            \n",
            "                                                                 \n",
            " flatten_3 (Flatten)         (None, 8000)              0         \n",
            "                                                                 \n",
            " dense_6 (Dense)             (None, 50)                400050    \n",
            "                                                                 \n",
            " dense_7 (Dense)             (None, 1)                 51        \n",
            "                                                                 \n",
            "=================================================================\n",
            "Total params: 403433 (1.54 MB)\n",
            "Trainable params: 403433 (1.54 MB)\n",
            "Non-trainable params: 0 (0.00 Byte)\n",
            "_________________________________________________________________\n"
          ]
        }
      ]
    },
    {
      "cell_type": "code",
      "source": [
        "history =  model.fit(X_train,y_train,epochs=20,batch_size=2048,verbose=1)"
      ],
      "metadata": {
        "id": "gumxNWXPX_PV",
        "colab": {
          "base_uri": "https://localhost:8080/"
        },
        "outputId": "ecf8e0a1-b38c-40ae-a426-ab2e6b94575b"
      },
      "execution_count": 24,
      "outputs": [
        {
          "output_type": "stream",
          "name": "stdout",
          "text": [
            "Epoch 1/20\n",
            "113/113 [==============================] - 12s 80ms/step - loss: 0.0351\n",
            "Epoch 2/20\n",
            "113/113 [==============================] - 9s 77ms/step - loss: 4.6993e-04\n",
            "Epoch 3/20\n",
            "113/113 [==============================] - 8s 74ms/step - loss: 2.6582e-04\n",
            "Epoch 4/20\n",
            "113/113 [==============================] - 8s 74ms/step - loss: 2.2862e-04\n",
            "Epoch 5/20\n",
            "113/113 [==============================] - 8s 73ms/step - loss: 2.1587e-04\n",
            "Epoch 6/20\n",
            "113/113 [==============================] - 8s 72ms/step - loss: 2.0124e-04\n",
            "Epoch 7/20\n",
            "113/113 [==============================] - 8s 72ms/step - loss: 1.9693e-04\n",
            "Epoch 8/20\n",
            "113/113 [==============================] - 9s 77ms/step - loss: 1.9181e-04\n",
            "Epoch 9/20\n",
            "113/113 [==============================] - 8s 73ms/step - loss: 1.9609e-04\n",
            "Epoch 10/20\n",
            "113/113 [==============================] - 8s 74ms/step - loss: 1.8235e-04\n",
            "Epoch 11/20\n",
            "113/113 [==============================] - 8s 72ms/step - loss: 1.8884e-04\n",
            "Epoch 12/20\n",
            "113/113 [==============================] - 8s 72ms/step - loss: 2.1477e-04\n",
            "Epoch 13/20\n",
            "113/113 [==============================] - 8s 73ms/step - loss: 1.7469e-04\n",
            "Epoch 14/20\n",
            "113/113 [==============================] - 8s 73ms/step - loss: 1.9191e-04\n",
            "Epoch 15/20\n",
            "113/113 [==============================] - 8s 72ms/step - loss: 3.6527e-04\n",
            "Epoch 16/20\n",
            "113/113 [==============================] - 8s 73ms/step - loss: 1.6419e-04\n",
            "Epoch 17/20\n",
            "113/113 [==============================] - 8s 73ms/step - loss: 1.6311e-04\n",
            "Epoch 18/20\n",
            "113/113 [==============================] - 8s 72ms/step - loss: 1.5669e-04\n",
            "Epoch 19/20\n",
            "113/113 [==============================] - 8s 72ms/step - loss: 1.5678e-04\n",
            "Epoch 20/20\n",
            "113/113 [==============================] - 8s 72ms/step - loss: 1.5858e-04\n"
          ]
        }
      ]
    },
    {
      "cell_type": "code",
      "source": [
        "plt.plot(history.history['loss'], label='Train loss')\n",
        "plt.legend()\n",
        "plt.show"
      ],
      "metadata": {
        "id": "q9Qg8o089lxJ",
        "colab": {
          "base_uri": "https://localhost:8080/",
          "height": 599
        },
        "outputId": "f8b7ab55-d5db-4e32-fd98-4fc70691d286"
      },
      "execution_count": 25,
      "outputs": [
        {
          "output_type": "execute_result",
          "data": {
            "text/plain": [
              "<function matplotlib.pyplot.show(close=None, block=None)>"
            ],
            "text/html": [
              "<div style=\"max-width:800px; border: 1px solid var(--colab-border-color);\"><style>\n",
              "      pre.function-repr-contents {\n",
              "        overflow-x: auto;\n",
              "        padding: 8px 12px;\n",
              "        max-height: 500px;\n",
              "      }\n",
              "\n",
              "      pre.function-repr-contents.function-repr-contents-collapsed {\n",
              "        cursor: pointer;\n",
              "        max-height: 100px;\n",
              "      }\n",
              "    </style>\n",
              "    <pre style=\"white-space: initial; background:\n",
              "         var(--colab-secondary-surface-color); padding: 8px 12px;\n",
              "         border-bottom: 1px solid var(--colab-border-color);\"><b>matplotlib.pyplot.show</b><br/>def show(*args, **kwargs)</pre><pre class=\"function-repr-contents function-repr-contents-collapsed\" style=\"\"><a class=\"filepath\" style=\"display:none\" href=\"#\">/usr/local/lib/python3.10/dist-packages/matplotlib/pyplot.py</a>Display all open figures.\n",
              "\n",
              "Parameters\n",
              "----------\n",
              "block : bool, optional\n",
              "    Whether to wait for all figures to be closed before returning.\n",
              "\n",
              "    If `True` block and run the GUI main loop until all figure windows\n",
              "    are closed.\n",
              "\n",
              "    If `False` ensure that all figure windows are displayed and return\n",
              "    immediately.  In this case, you are responsible for ensuring\n",
              "    that the event loop is running to have responsive figures.\n",
              "\n",
              "    Defaults to True in non-interactive mode and to False in interactive\n",
              "    mode (see `.pyplot.isinteractive`).\n",
              "\n",
              "See Also\n",
              "--------\n",
              "ion : Enable interactive mode, which shows / updates the figure after\n",
              "      every plotting command, so that calling ``show()`` is not necessary.\n",
              "ioff : Disable interactive mode.\n",
              "savefig : Save the figure to an image file instead of showing it on screen.\n",
              "\n",
              "Notes\n",
              "-----\n",
              "**Saving figures to file and showing a window at the same time**\n",
              "\n",
              "If you want an image file as well as a user interface window, use\n",
              "`.pyplot.savefig` before `.pyplot.show`. At the end of (a blocking)\n",
              "``show()`` the figure is closed and thus unregistered from pyplot. Calling\n",
              "`.pyplot.savefig` afterwards would save a new and thus empty figure. This\n",
              "limitation of command order does not apply if the show is non-blocking or\n",
              "if you keep a reference to the figure and use `.Figure.savefig`.\n",
              "\n",
              "**Auto-show in jupyter notebooks**\n",
              "\n",
              "The jupyter backends (activated via ``%matplotlib inline``,\n",
              "``%matplotlib notebook``, or ``%matplotlib widget``), call ``show()`` at\n",
              "the end of every cell by default. Thus, you usually don&#x27;t have to call it\n",
              "explicitly there.</pre>\n",
              "      <script>\n",
              "      if (google.colab.kernel.accessAllowed && google.colab.files && google.colab.files.view) {\n",
              "        for (const element of document.querySelectorAll('.filepath')) {\n",
              "          element.style.display = 'block'\n",
              "          element.onclick = (event) => {\n",
              "            event.preventDefault();\n",
              "            event.stopPropagation();\n",
              "            google.colab.files.view(element.textContent, 401);\n",
              "          };\n",
              "        }\n",
              "      }\n",
              "      for (const element of document.querySelectorAll('.function-repr-contents')) {\n",
              "        element.onclick = (event) => {\n",
              "          event.preventDefault();\n",
              "          event.stopPropagation();\n",
              "          element.classList.toggle('function-repr-contents-collapsed');\n",
              "        };\n",
              "      }\n",
              "      </script>\n",
              "      </div>"
            ]
          },
          "metadata": {},
          "execution_count": 25
        },
        {
          "output_type": "display_data",
          "data": {
            "text/plain": [
              "<Figure size 640x480 with 1 Axes>"
            ],
            "image/png": "[encoded data removed]"
          },
          "metadata": {}
        }
      ]
    },
    {
      "cell_type": "code",
      "source": [
        "testPredict = model.predict(X_test)"
      ],
      "metadata": {
        "id": "cAbHECuU9nG2",
        "colab": {
          "base_uri": "https://localhost:8080/"
        },
        "outputId": "166ec522-97cc-4e1a-e6bc-d93a61969be0"
      },
      "execution_count": 26,
      "outputs": [
        {
          "output_type": "stream",
          "name": "stdout",
          "text": [
            "783/783 [==============================] - 6s 8ms/step\n"
          ]
        }
      ]
    },
    {
      "cell_type": "code",
      "source": [
        "from sklearn.metrics import mean_squared_error,r2_score\n",
        "\n",
        "testPredict_inv = sc.inverse_transform(testPredict)\n",
        "y_test_inv = sc.inverse_transform(y_test)\n",
        "\n",
        "r2_test = r2_score(y_test_inv,testPredict_inv)\n",
        "rmse_test=np.sqrt(mean_squared_error(y_test_inv,testPredict_inv))\n",
        "\n",
        "print('R2 Test: {:.3f}'.format(r2_test))\n",
        "print('RMSE Test: {:.3f}'.format(rmse_test))"
      ],
      "metadata": {
        "id": "1MV3by6A9oWj",
        "colab": {
          "base_uri": "https://localhost:8080/"
        },
        "outputId": "3ee4571f-fec9-4be9-b5fe-aa2e1ba0b969"
      },
      "execution_count": 27,
      "outputs": [
        {
          "output_type": "stream",
          "name": "stdout",
          "text": [
            "R2 Test: 0.992\n",
            "RMSE Test: 18.989\n"
          ]
        }
      ]
    },
    {
      "cell_type": "code",
      "source": [
        "plt.figure(figsize=(12-4,3.1))\n",
        "plt.plot(y_test_inv,lw=1.3,label='Dataset(Test)')\n",
        "plt.plot(testPredict_inv,'r',lw=2.4,label='Prediction')\n",
        "plt.legend()\n",
        "plt.show()"
      ],
      "metadata": {
        "id": "ZUHmcZhx9pxn",
        "colab": {
          "base_uri": "https://localhost:8080/",
          "height": 299
        },
        "outputId": "0689a11e-7657-4fb0-cd27-171b9dfe3ab5"
      },
      "execution_count": 28,
      "outputs": [
        {
          "output_type": "display_data",
          "data": {
            "text/plain": [
              "<Figure size 800x310 with 1 Axes>"
            ],
            "image/png": "[encoded data removed]"
          },
          "metadata": {}
        }
      ]
    }
  ]
}